{
 "cells": [
  {
   "cell_type": "markdown",
   "id": "7887ccf4",
   "metadata": {},
   "source": [
    "# Assignment 3"
   ]
  },
  {
   "cell_type": "markdown",
   "id": "a88bf118",
   "metadata": {},
   "source": [
    "# 1.Download the dataset"
   ]
  },
  {
   "cell_type": "code",
   "execution_count": 1,
   "id": "4a828cf5",
   "metadata": {},
   "outputs": [],
   "source": [
    "import pandas as pd\n",
    "import numpy as np\n",
    "import matplotlib.pyplot as plt\n",
    "import seaborn as sns"
   ]
  },
  {
   "cell_type": "markdown",
   "id": "4adf3aa9",
   "metadata": {},
   "source": [
    "# 2. Load the dataset into the tool"
   ]
  },
  {
   "cell_type": "code",
   "execution_count": 2,
   "id": "886d54d6",
   "metadata": {},
   "outputs": [
    {
     "data": {
      "text/html": [
       "<div>\n",
       "<style scoped>\n",
       "    .dataframe tbody tr th:only-of-type {\n",
       "        vertical-align: middle;\n",
       "    }\n",
       "\n",
       "    .dataframe tbody tr th {\n",
       "        vertical-align: top;\n",
       "    }\n",
       "\n",
       "    .dataframe thead th {\n",
       "        text-align: right;\n",
       "    }\n",
       "</style>\n",
       "<table border=\"1\" class=\"dataframe\">\n",
       "  <thead>\n",
       "    <tr style=\"text-align: right;\">\n",
       "      <th></th>\n",
       "      <th>Sex</th>\n",
       "      <th>Length</th>\n",
       "      <th>Diameter</th>\n",
       "      <th>Height</th>\n",
       "      <th>Whole weight</th>\n",
       "      <th>Shucked weight</th>\n",
       "      <th>Viscera weight</th>\n",
       "      <th>Shell weight</th>\n",
       "      <th>Rings</th>\n",
       "    </tr>\n",
       "  </thead>\n",
       "  <tbody>\n",
       "    <tr>\n",
       "      <th>0</th>\n",
       "      <td>M</td>\n",
       "      <td>0.455</td>\n",
       "      <td>0.365</td>\n",
       "      <td>0.095</td>\n",
       "      <td>0.5140</td>\n",
       "      <td>0.2245</td>\n",
       "      <td>0.1010</td>\n",
       "      <td>0.150</td>\n",
       "      <td>15</td>\n",
       "    </tr>\n",
       "    <tr>\n",
       "      <th>1</th>\n",
       "      <td>M</td>\n",
       "      <td>0.350</td>\n",
       "      <td>0.265</td>\n",
       "      <td>0.090</td>\n",
       "      <td>0.2255</td>\n",
       "      <td>0.0995</td>\n",
       "      <td>0.0485</td>\n",
       "      <td>0.070</td>\n",
       "      <td>7</td>\n",
       "    </tr>\n",
       "    <tr>\n",
       "      <th>2</th>\n",
       "      <td>F</td>\n",
       "      <td>0.530</td>\n",
       "      <td>0.420</td>\n",
       "      <td>0.135</td>\n",
       "      <td>0.6770</td>\n",
       "      <td>0.2565</td>\n",
       "      <td>0.1415</td>\n",
       "      <td>0.210</td>\n",
       "      <td>9</td>\n",
       "    </tr>\n",
       "    <tr>\n",
       "      <th>3</th>\n",
       "      <td>M</td>\n",
       "      <td>0.440</td>\n",
       "      <td>0.365</td>\n",
       "      <td>0.125</td>\n",
       "      <td>0.5160</td>\n",
       "      <td>0.2155</td>\n",
       "      <td>0.1140</td>\n",
       "      <td>0.155</td>\n",
       "      <td>10</td>\n",
       "    </tr>\n",
       "    <tr>\n",
       "      <th>4</th>\n",
       "      <td>I</td>\n",
       "      <td>0.330</td>\n",
       "      <td>0.255</td>\n",
       "      <td>0.080</td>\n",
       "      <td>0.2050</td>\n",
       "      <td>0.0895</td>\n",
       "      <td>0.0395</td>\n",
       "      <td>0.055</td>\n",
       "      <td>7</td>\n",
       "    </tr>\n",
       "  </tbody>\n",
       "</table>\n",
       "</div>"
      ],
      "text/plain": [
       "  Sex  Length  Diameter  Height  Whole weight  Shucked weight  Viscera weight  \\\n",
       "0   M   0.455     0.365   0.095        0.5140          0.2245          0.1010   \n",
       "1   M   0.350     0.265   0.090        0.2255          0.0995          0.0485   \n",
       "2   F   0.530     0.420   0.135        0.6770          0.2565          0.1415   \n",
       "3   M   0.440     0.365   0.125        0.5160          0.2155          0.1140   \n",
       "4   I   0.330     0.255   0.080        0.2050          0.0895          0.0395   \n",
       "\n",
       "   Shell weight  Rings  \n",
       "0         0.150     15  \n",
       "1         0.070      7  \n",
       "2         0.210      9  \n",
       "3         0.155     10  \n",
       "4         0.055      7  "
      ]
     },
     "execution_count": 2,
     "metadata": {},
     "output_type": "execute_result"
    }
   ],
   "source": [
    "df=pd.read_csv(\"abalone.csv\")\n",
    "df.head()"
   ]
  },
  {
   "cell_type": "code",
   "execution_count": 3,
   "id": "7f0bd7ca",
   "metadata": {},
   "outputs": [
    {
     "data": {
      "text/html": [
       "<div>\n",
       "<style scoped>\n",
       "    .dataframe tbody tr th:only-of-type {\n",
       "        vertical-align: middle;\n",
       "    }\n",
       "\n",
       "    .dataframe tbody tr th {\n",
       "        vertical-align: top;\n",
       "    }\n",
       "\n",
       "    .dataframe thead th {\n",
       "        text-align: right;\n",
       "    }\n",
       "</style>\n",
       "<table border=\"1\" class=\"dataframe\">\n",
       "  <thead>\n",
       "    <tr style=\"text-align: right;\">\n",
       "      <th></th>\n",
       "      <th>Sex</th>\n",
       "      <th>Length</th>\n",
       "      <th>Diameter</th>\n",
       "      <th>Height</th>\n",
       "      <th>Whole weight</th>\n",
       "      <th>Shucked weight</th>\n",
       "      <th>Viscera weight</th>\n",
       "      <th>Shell weight</th>\n",
       "      <th>Rings</th>\n",
       "    </tr>\n",
       "  </thead>\n",
       "  <tbody>\n",
       "    <tr>\n",
       "      <th>4172</th>\n",
       "      <td>F</td>\n",
       "      <td>0.565</td>\n",
       "      <td>0.450</td>\n",
       "      <td>0.165</td>\n",
       "      <td>0.8870</td>\n",
       "      <td>0.3700</td>\n",
       "      <td>0.2390</td>\n",
       "      <td>0.2490</td>\n",
       "      <td>11</td>\n",
       "    </tr>\n",
       "    <tr>\n",
       "      <th>4173</th>\n",
       "      <td>M</td>\n",
       "      <td>0.590</td>\n",
       "      <td>0.440</td>\n",
       "      <td>0.135</td>\n",
       "      <td>0.9660</td>\n",
       "      <td>0.4390</td>\n",
       "      <td>0.2145</td>\n",
       "      <td>0.2605</td>\n",
       "      <td>10</td>\n",
       "    </tr>\n",
       "    <tr>\n",
       "      <th>4174</th>\n",
       "      <td>M</td>\n",
       "      <td>0.600</td>\n",
       "      <td>0.475</td>\n",
       "      <td>0.205</td>\n",
       "      <td>1.1760</td>\n",
       "      <td>0.5255</td>\n",
       "      <td>0.2875</td>\n",
       "      <td>0.3080</td>\n",
       "      <td>9</td>\n",
       "    </tr>\n",
       "    <tr>\n",
       "      <th>4175</th>\n",
       "      <td>F</td>\n",
       "      <td>0.625</td>\n",
       "      <td>0.485</td>\n",
       "      <td>0.150</td>\n",
       "      <td>1.0945</td>\n",
       "      <td>0.5310</td>\n",
       "      <td>0.2610</td>\n",
       "      <td>0.2960</td>\n",
       "      <td>10</td>\n",
       "    </tr>\n",
       "    <tr>\n",
       "      <th>4176</th>\n",
       "      <td>M</td>\n",
       "      <td>0.710</td>\n",
       "      <td>0.555</td>\n",
       "      <td>0.195</td>\n",
       "      <td>1.9485</td>\n",
       "      <td>0.9455</td>\n",
       "      <td>0.3765</td>\n",
       "      <td>0.4950</td>\n",
       "      <td>12</td>\n",
       "    </tr>\n",
       "  </tbody>\n",
       "</table>\n",
       "</div>"
      ],
      "text/plain": [
       "     Sex  Length  Diameter  Height  Whole weight  Shucked weight  \\\n",
       "4172   F   0.565     0.450   0.165        0.8870          0.3700   \n",
       "4173   M   0.590     0.440   0.135        0.9660          0.4390   \n",
       "4174   M   0.600     0.475   0.205        1.1760          0.5255   \n",
       "4175   F   0.625     0.485   0.150        1.0945          0.5310   \n",
       "4176   M   0.710     0.555   0.195        1.9485          0.9455   \n",
       "\n",
       "      Viscera weight  Shell weight  Rings  \n",
       "4172          0.2390        0.2490     11  \n",
       "4173          0.2145        0.2605     10  \n",
       "4174          0.2875        0.3080      9  \n",
       "4175          0.2610        0.2960     10  \n",
       "4176          0.3765        0.4950     12  "
      ]
     },
     "execution_count": 3,
     "metadata": {},
     "output_type": "execute_result"
    }
   ],
   "source": [
    "df.tail()\n"
   ]
  },
  {
   "cell_type": "code",
   "execution_count": 4,
   "id": "5c323221",
   "metadata": {},
   "outputs": [
    {
     "data": {
      "text/plain": [
       "(4177, 9)"
      ]
     },
     "execution_count": 4,
     "metadata": {},
     "output_type": "execute_result"
    }
   ],
   "source": [
    "df.shape\n"
   ]
  },
  {
   "cell_type": "code",
   "execution_count": 5,
   "id": "4833abff",
   "metadata": {},
   "outputs": [
    {
     "name": "stdout",
     "output_type": "stream",
     "text": [
      "<class 'pandas.core.frame.DataFrame'>\n",
      "RangeIndex: 4177 entries, 0 to 4176\n",
      "Data columns (total 9 columns):\n",
      " #   Column          Non-Null Count  Dtype  \n",
      "---  ------          --------------  -----  \n",
      " 0   Sex             4177 non-null   object \n",
      " 1   Length          4177 non-null   float64\n",
      " 2   Diameter        4177 non-null   float64\n",
      " 3   Height          4177 non-null   float64\n",
      " 4   Whole weight    4177 non-null   float64\n",
      " 5   Shucked weight  4177 non-null   float64\n",
      " 6   Viscera weight  4177 non-null   float64\n",
      " 7   Shell weight    4177 non-null   float64\n",
      " 8   Rings           4177 non-null   int64  \n",
      "dtypes: float64(7), int64(1), object(1)\n",
      "memory usage: 293.8+ KB\n"
     ]
    }
   ],
   "source": [
    "df.info()\n"
   ]
  },
  {
   "cell_type": "markdown",
   "id": "8d0484a3",
   "metadata": {},
   "source": [
    "# 3. Perform Below Visualizations"
   ]
  },
  {
   "cell_type": "markdown",
   "id": "8b34013f",
   "metadata": {},
   "source": [
    "# Univariate Analysis"
   ]
  },
  {
   "cell_type": "code",
   "execution_count": 6,
   "id": "d20b9013",
   "metadata": {},
   "outputs": [
    {
     "data": {
      "text/plain": [
       "<AxesSubplot:xlabel='Height'>"
      ]
     },
     "execution_count": 6,
     "metadata": {},
     "output_type": "execute_result"
    },
    {
     "data": {
      "image/png": "[encoded data removed]",
      "text/plain": [
       "<Figure size 432x288 with 1 Axes>"
      ]
     },
     "metadata": {
      "needs_background": "light"
     },
     "output_type": "display_data"
    }
   ],
   "source": [
    "sns.boxplot(x=df['Height'])\n"
   ]
  },
  {
   "cell_type": "markdown",
   "id": "a77cb217",
   "metadata": {},
   "source": [
    "# Bi-Variate Analysis"
   ]
  },
  {
   "cell_type": "code",
   "execution_count": 8,
   "id": "eeff9698",
   "metadata": {},
   "outputs": [
    {
     "name": "stderr",
     "output_type": "stream",
     "text": [
      "C:\\Users\\Shara\\anaconda3\\lib\\site-packages\\seaborn\\_decorators.py:36: FutureWarning: Pass the following variables as keyword args: x, y. From version 0.12, the only valid positional argument will be `data`, and passing other arguments without an explicit keyword will result in an error or misinterpretation.\n",
      "  warnings.warn(\n"
     ]
    },
    {
     "data": {
      "text/plain": [
       "<AxesSubplot:xlabel='Sex', ylabel='Length'>"
      ]
     },
     "execution_count": 8,
     "metadata": {},
     "output_type": "execute_result"
    },
    {
     "data": {
      "image/png": "[encoded data removed]",
      "text/plain": [
       "<Figure size 432x288 with 1 Axes>"
      ]
     },
     "metadata": {
      "needs_background": "light"
     },
     "output_type": "display_data"
    }
   ],
   "source": [
    "sns.lineplot(df['Sex'],df['Length'])\n"
   ]
  },
  {
   "cell_type": "markdown",
   "id": "39b4a3c9",
   "metadata": {},
   "source": [
    "# Multi-Variate Analysis"
   ]
  },
  {
   "cell_type": "code",
   "execution_count": 9,
   "id": "b98734c6",
   "metadata": {},
   "outputs": [
    {
     "data": {
      "text/plain": [
       "<AxesSubplot:>"
      ]
     },
     "execution_count": 9,
     "metadata": {},
     "output_type": "execute_result"
    },
    {
     "data": {
      "image/png": "[encoded data removed]",
      "text/plain": [
       "<Figure size 432x288 with 2 Axes>"
      ]
     },
     "metadata": {
      "needs_background": "light"
     },
     "output_type": "display_data"
    }
   ],
   "source": [
    "sns.heatmap(df.corr(),annot=True)"
   ]
  },
  {
   "cell_type": "markdown",
   "id": "1d583d9d",
   "metadata": {},
   "source": [
    "# 4. Perform descriptive statistics on the dataset"
   ]
  },
  {
   "cell_type": "code",
   "execution_count": 10,
   "id": "d1242efe",
   "metadata": {},
   "outputs": [
    {
     "data": {
      "text/html": [
       "<div>\n",
       "<style scoped>\n",
       "    .dataframe tbody tr th:only-of-type {\n",
       "        vertical-align: middle;\n",
       "    }\n",
       "\n",
       "    .dataframe tbody tr th {\n",
       "        vertical-align: top;\n",
       "    }\n",
       "\n",
       "    .dataframe thead th {\n",
       "        text-align: right;\n",
       "    }\n",
       "</style>\n",
       "<table border=\"1\" class=\"dataframe\">\n",
       "  <thead>\n",
       "    <tr style=\"text-align: right;\">\n",
       "      <th></th>\n",
       "      <th>Length</th>\n",
       "      <th>Diameter</th>\n",
       "      <th>Height</th>\n",
       "      <th>Whole weight</th>\n",
       "      <th>Shucked weight</th>\n",
       "      <th>Viscera weight</th>\n",
       "      <th>Shell weight</th>\n",
       "      <th>Rings</th>\n",
       "    </tr>\n",
       "  </thead>\n",
       "  <tbody>\n",
       "    <tr>\n",
       "      <th>count</th>\n",
       "      <td>4177.000000</td>\n",
       "      <td>4177.000000</td>\n",
       "      <td>4177.000000</td>\n",
       "      <td>4177.000000</td>\n",
       "      <td>4177.000000</td>\n",
       "      <td>4177.000000</td>\n",
       "      <td>4177.000000</td>\n",
       "      <td>4177.000000</td>\n",
       "    </tr>\n",
       "    <tr>\n",
       "      <th>mean</th>\n",
       "      <td>0.523992</td>\n",
       "      <td>0.407881</td>\n",
       "      <td>0.139516</td>\n",
       "      <td>0.828742</td>\n",
       "      <td>0.359367</td>\n",
       "      <td>0.180594</td>\n",
       "      <td>0.238831</td>\n",
       "      <td>9.933684</td>\n",
       "    </tr>\n",
       "    <tr>\n",
       "      <th>std</th>\n",
       "      <td>0.120093</td>\n",
       "      <td>0.099240</td>\n",
       "      <td>0.041827</td>\n",
       "      <td>0.490389</td>\n",
       "      <td>0.221963</td>\n",
       "      <td>0.109614</td>\n",
       "      <td>0.139203</td>\n",
       "      <td>3.224169</td>\n",
       "    </tr>\n",
       "    <tr>\n",
       "      <th>min</th>\n",
       "      <td>0.075000</td>\n",
       "      <td>0.055000</td>\n",
       "      <td>0.000000</td>\n",
       "      <td>0.002000</td>\n",
       "      <td>0.001000</td>\n",
       "      <td>0.000500</td>\n",
       "      <td>0.001500</td>\n",
       "      <td>1.000000</td>\n",
       "    </tr>\n",
       "    <tr>\n",
       "      <th>25%</th>\n",
       "      <td>0.450000</td>\n",
       "      <td>0.350000</td>\n",
       "      <td>0.115000</td>\n",
       "      <td>0.441500</td>\n",
       "      <td>0.186000</td>\n",
       "      <td>0.093500</td>\n",
       "      <td>0.130000</td>\n",
       "      <td>8.000000</td>\n",
       "    </tr>\n",
       "    <tr>\n",
       "      <th>50%</th>\n",
       "      <td>0.545000</td>\n",
       "      <td>0.425000</td>\n",
       "      <td>0.140000</td>\n",
       "      <td>0.799500</td>\n",
       "      <td>0.336000</td>\n",
       "      <td>0.171000</td>\n",
       "      <td>0.234000</td>\n",
       "      <td>9.000000</td>\n",
       "    </tr>\n",
       "    <tr>\n",
       "      <th>75%</th>\n",
       "      <td>0.615000</td>\n",
       "      <td>0.480000</td>\n",
       "      <td>0.165000</td>\n",
       "      <td>1.153000</td>\n",
       "      <td>0.502000</td>\n",
       "      <td>0.253000</td>\n",
       "      <td>0.329000</td>\n",
       "      <td>11.000000</td>\n",
       "    </tr>\n",
       "    <tr>\n",
       "      <th>max</th>\n",
       "      <td>0.815000</td>\n",
       "      <td>0.650000</td>\n",
       "      <td>1.130000</td>\n",
       "      <td>2.825500</td>\n",
       "      <td>1.488000</td>\n",
       "      <td>0.760000</td>\n",
       "      <td>1.005000</td>\n",
       "      <td>29.000000</td>\n",
       "    </tr>\n",
       "  </tbody>\n",
       "</table>\n",
       "</div>"
      ],
      "text/plain": [
       "            Length     Diameter       Height  Whole weight  Shucked weight  \\\n",
       "count  4177.000000  4177.000000  4177.000000   4177.000000     4177.000000   \n",
       "mean      0.523992     0.407881     0.139516      0.828742        0.359367   \n",
       "std       0.120093     0.099240     0.041827      0.490389        0.221963   \n",
       "min       0.075000     0.055000     0.000000      0.002000        0.001000   \n",
       "25%       0.450000     0.350000     0.115000      0.441500        0.186000   \n",
       "50%       0.545000     0.425000     0.140000      0.799500        0.336000   \n",
       "75%       0.615000     0.480000     0.165000      1.153000        0.502000   \n",
       "max       0.815000     0.650000     1.130000      2.825500        1.488000   \n",
       "\n",
       "       Viscera weight  Shell weight        Rings  \n",
       "count     4177.000000   4177.000000  4177.000000  \n",
       "mean         0.180594      0.238831     9.933684  \n",
       "std          0.109614      0.139203     3.224169  \n",
       "min          0.000500      0.001500     1.000000  \n",
       "25%          0.093500      0.130000     8.000000  \n",
       "50%          0.171000      0.234000     9.000000  \n",
       "75%          0.253000      0.329000    11.000000  \n",
       "max          0.760000      1.005000    29.000000  "
      ]
     },
     "execution_count": 10,
     "metadata": {},
     "output_type": "execute_result"
    }
   ],
   "source": [
    "df.describe()"
   ]
  },
  {
   "cell_type": "code",
   "execution_count": 11,
   "id": "bf622d7e",
   "metadata": {},
   "outputs": [
    {
     "data": {
      "text/html": [
       "<div>\n",
       "<style scoped>\n",
       "    .dataframe tbody tr th:only-of-type {\n",
       "        vertical-align: middle;\n",
       "    }\n",
       "\n",
       "    .dataframe tbody tr th {\n",
       "        vertical-align: top;\n",
       "    }\n",
       "\n",
       "    .dataframe thead th {\n",
       "        text-align: right;\n",
       "    }\n",
       "</style>\n",
       "<table border=\"1\" class=\"dataframe\">\n",
       "  <thead>\n",
       "    <tr style=\"text-align: right;\">\n",
       "      <th></th>\n",
       "      <th>count</th>\n",
       "      <th>mean</th>\n",
       "      <th>std</th>\n",
       "      <th>min</th>\n",
       "      <th>25%</th>\n",
       "      <th>50%</th>\n",
       "      <th>75%</th>\n",
       "      <th>max</th>\n",
       "    </tr>\n",
       "  </thead>\n",
       "  <tbody>\n",
       "    <tr>\n",
       "      <th>Length</th>\n",
       "      <td>4177.0</td>\n",
       "      <td>0.523992</td>\n",
       "      <td>0.120093</td>\n",
       "      <td>0.0750</td>\n",
       "      <td>0.4500</td>\n",
       "      <td>0.5450</td>\n",
       "      <td>0.615</td>\n",
       "      <td>0.8150</td>\n",
       "    </tr>\n",
       "    <tr>\n",
       "      <th>Diameter</th>\n",
       "      <td>4177.0</td>\n",
       "      <td>0.407881</td>\n",
       "      <td>0.099240</td>\n",
       "      <td>0.0550</td>\n",
       "      <td>0.3500</td>\n",
       "      <td>0.4250</td>\n",
       "      <td>0.480</td>\n",
       "      <td>0.6500</td>\n",
       "    </tr>\n",
       "    <tr>\n",
       "      <th>Height</th>\n",
       "      <td>4177.0</td>\n",
       "      <td>0.139516</td>\n",
       "      <td>0.041827</td>\n",
       "      <td>0.0000</td>\n",
       "      <td>0.1150</td>\n",
       "      <td>0.1400</td>\n",
       "      <td>0.165</td>\n",
       "      <td>1.1300</td>\n",
       "    </tr>\n",
       "    <tr>\n",
       "      <th>Whole weight</th>\n",
       "      <td>4177.0</td>\n",
       "      <td>0.828742</td>\n",
       "      <td>0.490389</td>\n",
       "      <td>0.0020</td>\n",
       "      <td>0.4415</td>\n",
       "      <td>0.7995</td>\n",
       "      <td>1.153</td>\n",
       "      <td>2.8255</td>\n",
       "    </tr>\n",
       "    <tr>\n",
       "      <th>Shucked weight</th>\n",
       "      <td>4177.0</td>\n",
       "      <td>0.359367</td>\n",
       "      <td>0.221963</td>\n",
       "      <td>0.0010</td>\n",
       "      <td>0.1860</td>\n",
       "      <td>0.3360</td>\n",
       "      <td>0.502</td>\n",
       "      <td>1.4880</td>\n",
       "    </tr>\n",
       "    <tr>\n",
       "      <th>Viscera weight</th>\n",
       "      <td>4177.0</td>\n",
       "      <td>0.180594</td>\n",
       "      <td>0.109614</td>\n",
       "      <td>0.0005</td>\n",
       "      <td>0.0935</td>\n",
       "      <td>0.1710</td>\n",
       "      <td>0.253</td>\n",
       "      <td>0.7600</td>\n",
       "    </tr>\n",
       "    <tr>\n",
       "      <th>Shell weight</th>\n",
       "      <td>4177.0</td>\n",
       "      <td>0.238831</td>\n",
       "      <td>0.139203</td>\n",
       "      <td>0.0015</td>\n",
       "      <td>0.1300</td>\n",
       "      <td>0.2340</td>\n",
       "      <td>0.329</td>\n",
       "      <td>1.0050</td>\n",
       "    </tr>\n",
       "    <tr>\n",
       "      <th>Rings</th>\n",
       "      <td>4177.0</td>\n",
       "      <td>9.933684</td>\n",
       "      <td>3.224169</td>\n",
       "      <td>1.0000</td>\n",
       "      <td>8.0000</td>\n",
       "      <td>9.0000</td>\n",
       "      <td>11.000</td>\n",
       "      <td>29.0000</td>\n",
       "    </tr>\n",
       "  </tbody>\n",
       "</table>\n",
       "</div>"
      ],
      "text/plain": [
       "                 count      mean       std     min     25%     50%     75%  \\\n",
       "Length          4177.0  0.523992  0.120093  0.0750  0.4500  0.5450   0.615   \n",
       "Diameter        4177.0  0.407881  0.099240  0.0550  0.3500  0.4250   0.480   \n",
       "Height          4177.0  0.139516  0.041827  0.0000  0.1150  0.1400   0.165   \n",
       "Whole weight    4177.0  0.828742  0.490389  0.0020  0.4415  0.7995   1.153   \n",
       "Shucked weight  4177.0  0.359367  0.221963  0.0010  0.1860  0.3360   0.502   \n",
       "Viscera weight  4177.0  0.180594  0.109614  0.0005  0.0935  0.1710   0.253   \n",
       "Shell weight    4177.0  0.238831  0.139203  0.0015  0.1300  0.2340   0.329   \n",
       "Rings           4177.0  9.933684  3.224169  1.0000  8.0000  9.0000  11.000   \n",
       "\n",
       "                    max  \n",
       "Length           0.8150  \n",
       "Diameter         0.6500  \n",
       "Height           1.1300  \n",
       "Whole weight     2.8255  \n",
       "Shucked weight   1.4880  \n",
       "Viscera weight   0.7600  \n",
       "Shell weight     1.0050  \n",
       "Rings           29.0000  "
      ]
     },
     "execution_count": 11,
     "metadata": {},
     "output_type": "execute_result"
    }
   ],
   "source": [
    "df.describe().T"
   ]
  },
  {
   "cell_type": "markdown",
   "id": "cf15d1e5",
   "metadata": {},
   "source": [
    "# 5. Check for Missing values and deal with them"
   ]
  },
  {
   "cell_type": "code",
   "execution_count": 12,
   "id": "1c978f11",
   "metadata": {},
   "outputs": [
    {
     "data": {
      "text/plain": [
       "Sex               0\n",
       "Length            0\n",
       "Diameter          0\n",
       "Height            0\n",
       "Whole weight      0\n",
       "Shucked weight    0\n",
       "Viscera weight    0\n",
       "Shell weight      0\n",
       "Rings             0\n",
       "dtype: int64"
      ]
     },
     "execution_count": 12,
     "metadata": {},
     "output_type": "execute_result"
    }
   ],
   "source": [
    "df.isna().sum()"
   ]
  },
  {
   "cell_type": "markdown",
   "id": "6cd59fe7",
   "metadata": {},
   "source": [
    "# 6. Find the outliers and replace them outliers"
   ]
  },
  {
   "cell_type": "code",
   "execution_count": 13,
   "id": "c7f00f4b",
   "metadata": {},
   "outputs": [],
   "source": [
    "df['Sex'].replace({'M':1, 'F':0, 'I':-1},inplace=True)"
   ]
  },
  {
   "cell_type": "code",
   "execution_count": 14,
   "id": "289b8430",
   "metadata": {},
   "outputs": [
    {
     "data": {
      "text/html": [
       "<div>\n",
       "<style scoped>\n",
       "    .dataframe tbody tr th:only-of-type {\n",
       "        vertical-align: middle;\n",
       "    }\n",
       "\n",
       "    .dataframe tbody tr th {\n",
       "        vertical-align: top;\n",
       "    }\n",
       "\n",
       "    .dataframe thead th {\n",
       "        text-align: right;\n",
       "    }\n",
       "</style>\n",
       "<table border=\"1\" class=\"dataframe\">\n",
       "  <thead>\n",
       "    <tr style=\"text-align: right;\">\n",
       "      <th></th>\n",
       "      <th>Sex</th>\n",
       "      <th>Length</th>\n",
       "      <th>Diameter</th>\n",
       "      <th>Height</th>\n",
       "      <th>Whole weight</th>\n",
       "      <th>Shucked weight</th>\n",
       "      <th>Viscera weight</th>\n",
       "      <th>Shell weight</th>\n",
       "      <th>Rings</th>\n",
       "    </tr>\n",
       "  </thead>\n",
       "  <tbody>\n",
       "    <tr>\n",
       "      <th>0</th>\n",
       "      <td>1</td>\n",
       "      <td>0.455</td>\n",
       "      <td>0.365</td>\n",
       "      <td>0.095</td>\n",
       "      <td>0.5140</td>\n",
       "      <td>0.2245</td>\n",
       "      <td>0.1010</td>\n",
       "      <td>0.150</td>\n",
       "      <td>15</td>\n",
       "    </tr>\n",
       "    <tr>\n",
       "      <th>1</th>\n",
       "      <td>1</td>\n",
       "      <td>0.350</td>\n",
       "      <td>0.265</td>\n",
       "      <td>0.090</td>\n",
       "      <td>0.2255</td>\n",
       "      <td>0.0995</td>\n",
       "      <td>0.0485</td>\n",
       "      <td>0.070</td>\n",
       "      <td>7</td>\n",
       "    </tr>\n",
       "    <tr>\n",
       "      <th>2</th>\n",
       "      <td>0</td>\n",
       "      <td>0.530</td>\n",
       "      <td>0.420</td>\n",
       "      <td>0.135</td>\n",
       "      <td>0.6770</td>\n",
       "      <td>0.2565</td>\n",
       "      <td>0.1415</td>\n",
       "      <td>0.210</td>\n",
       "      <td>9</td>\n",
       "    </tr>\n",
       "    <tr>\n",
       "      <th>3</th>\n",
       "      <td>1</td>\n",
       "      <td>0.440</td>\n",
       "      <td>0.365</td>\n",
       "      <td>0.125</td>\n",
       "      <td>0.5160</td>\n",
       "      <td>0.2155</td>\n",
       "      <td>0.1140</td>\n",
       "      <td>0.155</td>\n",
       "      <td>10</td>\n",
       "    </tr>\n",
       "    <tr>\n",
       "      <th>4</th>\n",
       "      <td>-1</td>\n",
       "      <td>0.330</td>\n",
       "      <td>0.255</td>\n",
       "      <td>0.080</td>\n",
       "      <td>0.2050</td>\n",
       "      <td>0.0895</td>\n",
       "      <td>0.0395</td>\n",
       "      <td>0.055</td>\n",
       "      <td>7</td>\n",
       "    </tr>\n",
       "  </tbody>\n",
       "</table>\n",
       "</div>"
      ],
      "text/plain": [
       "   Sex  Length  Diameter  Height  Whole weight  Shucked weight  \\\n",
       "0    1   0.455     0.365   0.095        0.5140          0.2245   \n",
       "1    1   0.350     0.265   0.090        0.2255          0.0995   \n",
       "2    0   0.530     0.420   0.135        0.6770          0.2565   \n",
       "3    1   0.440     0.365   0.125        0.5160          0.2155   \n",
       "4   -1   0.330     0.255   0.080        0.2050          0.0895   \n",
       "\n",
       "   Viscera weight  Shell weight  Rings  \n",
       "0          0.1010         0.150     15  \n",
       "1          0.0485         0.070      7  \n",
       "2          0.1415         0.210      9  \n",
       "3          0.1140         0.155     10  \n",
       "4          0.0395         0.055      7  "
      ]
     },
     "execution_count": 14,
     "metadata": {},
     "output_type": "execute_result"
    }
   ],
   "source": [
    "df.head()"
   ]
  },
  {
   "cell_type": "code",
   "execution_count": 15,
   "id": "4e2a6af3",
   "metadata": {},
   "outputs": [
    {
     "data": {
      "text/plain": [
       "array([ 1,  0, -1], dtype=int64)"
      ]
     },
     "execution_count": 15,
     "metadata": {},
     "output_type": "execute_result"
    }
   ],
   "source": [
    "df.Sex.unique()"
   ]
  },
  {
   "cell_type": "code",
   "execution_count": 16,
   "id": "9f50159a",
   "metadata": {},
   "outputs": [
    {
     "data": {
      "text/plain": [
       "<AxesSubplot:xlabel='Sex'>"
      ]
     },
     "execution_count": 16,
     "metadata": {},
     "output_type": "execute_result"
    },
    {
     "data": {
      "image/png": "[encoded data removed]",
      "text/plain": [
       "<Figure size 432x288 with 1 Axes>"
      ]
     },
     "metadata": {
      "needs_background": "light"
     },
     "output_type": "display_data"
    }
   ],
   "source": [
    "sns.boxplot(x=df[\"Sex\"])"
   ]
  },
  {
   "cell_type": "code",
   "execution_count": 17,
   "id": "f1886cb8",
   "metadata": {},
   "outputs": [
    {
     "data": {
      "text/plain": [
       "<AxesSubplot:xlabel='Length'>"
      ]
     },
     "execution_count": 17,
     "metadata": {},
     "output_type": "execute_result"
    },
    {
     "data": {
      "image/png": "[encoded data removed]",
      "text/plain": [
       "<Figure size 432x288 with 1 Axes>"
      ]
     },
     "metadata": {
      "needs_background": "light"
     },
     "output_type": "display_data"
    }
   ],
   "source": [
    "sns.boxplot(x=df[\"Length\"])"
   ]
  },
  {
   "cell_type": "code",
   "execution_count": 18,
   "id": "58f3f76b",
   "metadata": {},
   "outputs": [
    {
     "data": {
      "text/plain": [
       "<AxesSubplot:xlabel='Diameter'>"
      ]
     },
     "execution_count": 18,
     "metadata": {},
     "output_type": "execute_result"
    },
    {
     "data": {
      "image/png": "[encoded data removed]",
      "text/plain": [
       "<Figure size 432x288 with 1 Axes>"
      ]
     },
     "metadata": {
      "needs_background": "light"
     },
     "output_type": "display_data"
    }
   ],
   "source": [
    "sns.boxplot(x=df[\"Diameter\"])"
   ]
  },
  {
   "cell_type": "code",
   "execution_count": 19,
   "id": "9e6ade71",
   "metadata": {},
   "outputs": [
    {
     "data": {
      "text/plain": [
       "<AxesSubplot:xlabel='Height'>"
      ]
     },
     "execution_count": 19,
     "metadata": {},
     "output_type": "execute_result"
    },
    {
     "data": {
      "image/png": "[encoded data removed]",
      "text/plain": [
       "<Figure size 432x288 with 1 Axes>"
      ]
     },
     "metadata": {
      "needs_background": "light"
     },
     "output_type": "display_data"
    }
   ],
   "source": [
    "sns.boxplot(x=df[\"Height\"])"
   ]
  },
  {
   "cell_type": "code",
   "execution_count": 20,
   "id": "dc2fe09c",
   "metadata": {},
   "outputs": [
    {
     "data": {
      "text/plain": [
       "<AxesSubplot:xlabel='Whole weight'>"
      ]
     },
     "execution_count": 20,
     "metadata": {},
     "output_type": "execute_result"
    },
    {
     "data": {
      "image/png": "[encoded data removed]",
      "text/plain": [
       "<Figure size 432x288 with 1 Axes>"
      ]
     },
     "metadata": {
      "needs_background": "light"
     },
     "output_type": "display_data"
    }
   ],
   "source": [
    "sns.boxplot(x=df[\"Whole weight\"])"
   ]
  },
  {
   "cell_type": "code",
   "execution_count": 21,
   "id": "6bba5809",
   "metadata": {},
   "outputs": [
    {
     "data": {
      "text/plain": [
       "<AxesSubplot:xlabel='Shucked weight'>"
      ]
     },
     "execution_count": 21,
     "metadata": {},
     "output_type": "execute_result"
    },
    {
     "data": {
      "image/png": "[encoded data removed]",
      "text/plain": [
       "<Figure size 432x288 with 1 Axes>"
      ]
     },
     "metadata": {
      "needs_background": "light"
     },
     "output_type": "display_data"
    }
   ],
   "source": [
    "sns.boxplot(x=df[\"Shucked weight\"])"
   ]
  },
  {
   "cell_type": "code",
   "execution_count": 22,
   "id": "2b97db96",
   "metadata": {},
   "outputs": [
    {
     "data": {
      "text/plain": [
       "<AxesSubplot:xlabel='Viscera weight'>"
      ]
     },
     "execution_count": 22,
     "metadata": {},
     "output_type": "execute_result"
    },
    {
     "data": {
      "image/png": "[encoded data removed]",
      "text/plain": [
       "<Figure size 432x288 with 1 Axes>"
      ]
     },
     "metadata": {
      "needs_background": "light"
     },
     "output_type": "display_data"
    }
   ],
   "source": [
    "sns.boxplot(x=df[\"Viscera weight\"])"
   ]
  },
  {
   "cell_type": "code",
   "execution_count": 23,
   "id": "4c2b3dde",
   "metadata": {},
   "outputs": [
    {
     "data": {
      "text/plain": [
       "<AxesSubplot:xlabel='Shell weight'>"
      ]
     },
     "execution_count": 23,
     "metadata": {},
     "output_type": "execute_result"
    },
    {
     "data": {
      "image/png": "[encoded data removed]",
      "text/plain": [
       "<Figure size 432x288 with 1 Axes>"
      ]
     },
     "metadata": {
      "needs_background": "light"
     },
     "output_type": "display_data"
    }
   ],
   "source": [
    "sns.boxplot(x=df[\"Shell weight\"])"
   ]
  },
  {
   "cell_type": "code",
   "execution_count": 24,
   "id": "89bddf58",
   "metadata": {},
   "outputs": [
    {
     "data": {
      "text/plain": [
       "<AxesSubplot:xlabel='Rings'>"
      ]
     },
     "execution_count": 24,
     "metadata": {},
     "output_type": "execute_result"
    },
    {
     "data": {
      "image/png": "[encoded data removed]",
      "text/plain": [
       "<Figure size 432x288 with 1 Axes>"
      ]
     },
     "metadata": {
      "needs_background": "light"
     },
     "output_type": "display_data"
    }
   ],
   "source": [
    "sns.boxplot(x=df[\"Rings\"])"
   ]
  },
  {
   "cell_type": "markdown",
   "id": "5be731e7",
   "metadata": {},
   "source": [
    "# handle outlier"
   ]
  },
  {
   "cell_type": "code",
   "execution_count": 25,
   "id": "c43f3004",
   "metadata": {},
   "outputs": [
    {
     "data": {
      "text/html": [
       "<div>\n",
       "<style scoped>\n",
       "    .dataframe tbody tr th:only-of-type {\n",
       "        vertical-align: middle;\n",
       "    }\n",
       "\n",
       "    .dataframe tbody tr th {\n",
       "        vertical-align: top;\n",
       "    }\n",
       "\n",
       "    .dataframe thead th {\n",
       "        text-align: right;\n",
       "    }\n",
       "</style>\n",
       "<table border=\"1\" class=\"dataframe\">\n",
       "  <thead>\n",
       "    <tr style=\"text-align: right;\">\n",
       "      <th></th>\n",
       "      <th>Sex</th>\n",
       "      <th>Length</th>\n",
       "      <th>Diameter</th>\n",
       "      <th>Height</th>\n",
       "      <th>Whole weight</th>\n",
       "      <th>Shucked weight</th>\n",
       "      <th>Viscera weight</th>\n",
       "      <th>Shell weight</th>\n",
       "      <th>Rings</th>\n",
       "    </tr>\n",
       "  </thead>\n",
       "  <tbody>\n",
       "    <tr>\n",
       "      <th>0.25</th>\n",
       "      <td>-1.0</td>\n",
       "      <td>0.450</td>\n",
       "      <td>0.35</td>\n",
       "      <td>0.115</td>\n",
       "      <td>0.4415</td>\n",
       "      <td>0.186</td>\n",
       "      <td>0.0935</td>\n",
       "      <td>0.130</td>\n",
       "      <td>8.0</td>\n",
       "    </tr>\n",
       "    <tr>\n",
       "      <th>0.75</th>\n",
       "      <td>1.0</td>\n",
       "      <td>0.615</td>\n",
       "      <td>0.48</td>\n",
       "      <td>0.165</td>\n",
       "      <td>1.1530</td>\n",
       "      <td>0.502</td>\n",
       "      <td>0.2530</td>\n",
       "      <td>0.329</td>\n",
       "      <td>11.0</td>\n",
       "    </tr>\n",
       "  </tbody>\n",
       "</table>\n",
       "</div>"
      ],
      "text/plain": [
       "      Sex  Length  Diameter  Height  Whole weight  Shucked weight  \\\n",
       "0.25 -1.0   0.450      0.35   0.115        0.4415           0.186   \n",
       "0.75  1.0   0.615      0.48   0.165        1.1530           0.502   \n",
       "\n",
       "      Viscera weight  Shell weight  Rings  \n",
       "0.25          0.0935         0.130    8.0  \n",
       "0.75          0.2530         0.329   11.0  "
      ]
     },
     "execution_count": 25,
     "metadata": {},
     "output_type": "execute_result"
    }
   ],
   "source": [
    "qnt=df.quantile(q=[0.25,0.75])\n",
    "qnt"
   ]
  },
  {
   "cell_type": "code",
   "execution_count": 26,
   "id": "edb48d63",
   "metadata": {},
   "outputs": [
    {
     "data": {
      "text/plain": [
       "Sex               2.0000\n",
       "Length            0.1650\n",
       "Diameter          0.1300\n",
       "Height            0.0500\n",
       "Whole weight      0.7115\n",
       "Shucked weight    0.3160\n",
       "Viscera weight    0.1595\n",
       "Shell weight      0.1990\n",
       "Rings             3.0000\n",
       "dtype: float64"
      ]
     },
     "execution_count": 26,
     "metadata": {},
     "output_type": "execute_result"
    }
   ],
   "source": [
    "iqr=qnt.loc[0.75]-qnt.loc[0.25]\n",
    "iqr"
   ]
  },
  {
   "cell_type": "markdown",
   "id": "5b346746",
   "metadata": {},
   "source": [
    "# lower limit"
   ]
  },
  {
   "cell_type": "code",
   "execution_count": 27,
   "id": "91d7334b",
   "metadata": {},
   "outputs": [
    {
     "data": {
      "text/plain": [
       "Sex              -4.00000\n",
       "Length            0.20250\n",
       "Diameter          0.15500\n",
       "Height            0.04000\n",
       "Whole weight     -0.62575\n",
       "Shucked weight   -0.28800\n",
       "Viscera weight   -0.14575\n",
       "Shell weight     -0.16850\n",
       "Rings             3.50000\n",
       "dtype: float64"
      ]
     },
     "execution_count": 27,
     "metadata": {},
     "output_type": "execute_result"
    }
   ],
   "source": [
    "lower=qnt.loc[0.25]-(1.5*iqr)\n",
    "lower"
   ]
  },
  {
   "cell_type": "code",
   "execution_count": 28,
   "id": "a8a5ff4b",
   "metadata": {},
   "outputs": [
    {
     "data": {
      "text/plain": [
       "Sex                4.00000\n",
       "Length             0.86250\n",
       "Diameter           0.67500\n",
       "Height             0.24000\n",
       "Whole weight       2.22025\n",
       "Shucked weight     0.97600\n",
       "Viscera weight     0.49225\n",
       "Shell weight       0.62750\n",
       "Rings             15.50000\n",
       "dtype: float64"
      ]
     },
     "execution_count": 28,
     "metadata": {},
     "output_type": "execute_result"
    }
   ],
   "source": [
    "upper=qnt.loc[0.75]+(1.5*iqr)\n",
    "upper"
   ]
  },
  {
   "cell_type": "code",
   "execution_count": 29,
   "id": "ba071214",
   "metadata": {},
   "outputs": [
    {
     "data": {
      "text/plain": [
       "Sex               0.044530\n",
       "Length            0.523992\n",
       "Diameter          0.407881\n",
       "Height            0.139516\n",
       "Whole weight      0.828742\n",
       "Shucked weight    0.359367\n",
       "Viscera weight    0.180594\n",
       "Shell weight      0.238831\n",
       "Rings             9.933684\n",
       "dtype: float64"
      ]
     },
     "execution_count": 29,
     "metadata": {},
     "output_type": "execute_result"
    }
   ],
   "source": [
    "df.mean()"
   ]
  },
  {
   "cell_type": "markdown",
   "id": "fcc36a23",
   "metadata": {},
   "source": [
    "# replace outlier"
   ]
  },
  {
   "cell_type": "code",
   "execution_count": 30,
   "id": "4602f78a",
   "metadata": {},
   "outputs": [],
   "source": [
    "df['Length']=np.where(df['Length']<0.22,0.52,df['Length'])\n",
    "df['Diameter']=np.where(df['Diameter']<0.155,0.407,df['Diameter'])\n",
    "df['Height']=np.where(df['Height']<0.04,0.13,df['Height'])\n",
    "df['Height']=np.where(df['Height']>0.24,0.13,df['Height'])\n",
    "df['Whole weight']=np.where(df['Whole weight']>2.18,0.83,df['Whole weight'])\n",
    "df['Shucked weight']=np.where(df['Shucked weight']>0.958,0.359367,df['Shucked weight'])\n",
    "df['Viscera weight']=np.where(df['Viscera weight']>0.478,0.18,df['Viscera weight'])\n",
    "df['Shell weight']=np.where(df['Shell weight']>0.61,0.238831,df['Shell weight'])\n",
    "df['Rings']=np.where(df['Rings']<3.5,9.93,df['Rings'])\n",
    "df['Rings']=np.where(df['Rings']>15.5,9.93,df['Rings'])\n"
   ]
  },
  {
   "cell_type": "code",
   "execution_count": 31,
   "id": "24987b5c",
   "metadata": {},
   "outputs": [
    {
     "name": "stderr",
     "output_type": "stream",
     "text": [
      "C:\\Users\\Shara\\anaconda3\\lib\\site-packages\\seaborn\\_decorators.py:36: FutureWarning: Pass the following variable as a keyword arg: x. From version 0.12, the only valid positional argument will be `data`, and passing other arguments without an explicit keyword will result in an error or misinterpretation.\n",
      "  warnings.warn(\n"
     ]
    },
    {
     "data": {
      "text/plain": [
       "<AxesSubplot:xlabel='Length'>"
      ]
     },
     "execution_count": 31,
     "metadata": {},
     "output_type": "execute_result"
    },
    {
     "data": {
      "image/png": "[encoded data removed]",
      "text/plain": [
       "<Figure size 432x288 with 1 Axes>"
      ]
     },
     "metadata": {
      "needs_background": "light"
     },
     "output_type": "display_data"
    }
   ],
   "source": [
    "sns.boxplot(df['Length'])"
   ]
  },
  {
   "cell_type": "code",
   "execution_count": 32,
   "id": "6fb76fa0",
   "metadata": {},
   "outputs": [
    {
     "name": "stderr",
     "output_type": "stream",
     "text": [
      "C:\\Users\\Shara\\anaconda3\\lib\\site-packages\\seaborn\\_decorators.py:36: FutureWarning: Pass the following variable as a keyword arg: x. From version 0.12, the only valid positional argument will be `data`, and passing other arguments without an explicit keyword will result in an error or misinterpretation.\n",
      "  warnings.warn(\n"
     ]
    },
    {
     "data": {
      "text/plain": [
       "<AxesSubplot:xlabel='Diameter'>"
      ]
     },
     "execution_count": 32,
     "metadata": {},
     "output_type": "execute_result"
    },
    {
     "data": {
      "image/png": "[encoded data removed]",
      "text/plain": [
       "<Figure size 432x288 with 1 Axes>"
      ]
     },
     "metadata": {
      "needs_background": "light"
     },
     "output_type": "display_data"
    }
   ],
   "source": [
    "sns.boxplot(df['Diameter'])"
   ]
  },
  {
   "cell_type": "code",
   "execution_count": 33,
   "id": "44e8b3fc",
   "metadata": {},
   "outputs": [
    {
     "name": "stderr",
     "output_type": "stream",
     "text": [
      "C:\\Users\\Shara\\anaconda3\\lib\\site-packages\\seaborn\\_decorators.py:36: FutureWarning: Pass the following variable as a keyword arg: x. From version 0.12, the only valid positional argument will be `data`, and passing other arguments without an explicit keyword will result in an error or misinterpretation.\n",
      "  warnings.warn(\n"
     ]
    },
    {
     "data": {
      "text/plain": [
       "<AxesSubplot:xlabel='Height'>"
      ]
     },
     "execution_count": 33,
     "metadata": {},
     "output_type": "execute_result"
    },
    {
     "data": {
      "image/png": "[encoded data removed]",
      "text/plain": [
       "<Figure size 432x288 with 1 Axes>"
      ]
     },
     "metadata": {
      "needs_background": "light"
     },
     "output_type": "display_data"
    }
   ],
   "source": [
    "sns.boxplot(df['Height'])"
   ]
  },
  {
   "cell_type": "code",
   "execution_count": 34,
   "id": "689a2de1",
   "metadata": {},
   "outputs": [
    {
     "name": "stderr",
     "output_type": "stream",
     "text": [
      "C:\\Users\\Shara\\anaconda3\\lib\\site-packages\\seaborn\\_decorators.py:36: FutureWarning: Pass the following variable as a keyword arg: x. From version 0.12, the only valid positional argument will be `data`, and passing other arguments without an explicit keyword will result in an error or misinterpretation.\n",
      "  warnings.warn(\n"
     ]
    },
    {
     "data": {
      "text/plain": [
       "<AxesSubplot:xlabel='Whole weight'>"
      ]
     },
     "execution_count": 34,
     "metadata": {},
     "output_type": "execute_result"
    },
    {
     "data": {
      "image/png": "[encoded data removed]",
      "text/plain": [
       "<Figure size 432x288 with 1 Axes>"
      ]
     },
     "metadata": {
      "needs_background": "light"
     },
     "output_type": "display_data"
    }
   ],
   "source": [
    "sns.boxplot(df['Whole weight'])"
   ]
  },
  {
   "cell_type": "code",
   "execution_count": 35,
   "id": "33e66829",
   "metadata": {},
   "outputs": [
    {
     "name": "stderr",
     "output_type": "stream",
     "text": [
      "C:\\Users\\Shara\\anaconda3\\lib\\site-packages\\seaborn\\_decorators.py:36: FutureWarning: Pass the following variable as a keyword arg: x. From version 0.12, the only valid positional argument will be `data`, and passing other arguments without an explicit keyword will result in an error or misinterpretation.\n",
      "  warnings.warn(\n"
     ]
    },
    {
     "data": {
      "text/plain": [
       "<AxesSubplot:xlabel='Shucked weight'>"
      ]
     },
     "execution_count": 35,
     "metadata": {},
     "output_type": "execute_result"
    },
    {
     "data": {
      "image/png": "[encoded data removed]",
      "text/plain": [
       "<Figure size 432x288 with 1 Axes>"
      ]
     },
     "metadata": {
      "needs_background": "light"
     },
     "output_type": "display_data"
    }
   ],
   "source": [
    "sns.boxplot(df['Shucked weight'])"
   ]
  },
  {
   "cell_type": "code",
   "execution_count": 36,
   "id": "a0f9501e",
   "metadata": {},
   "outputs": [
    {
     "name": "stderr",
     "output_type": "stream",
     "text": [
      "C:\\Users\\Shara\\anaconda3\\lib\\site-packages\\seaborn\\_decorators.py:36: FutureWarning: Pass the following variable as a keyword arg: x. From version 0.12, the only valid positional argument will be `data`, and passing other arguments without an explicit keyword will result in an error or misinterpretation.\n",
      "  warnings.warn(\n"
     ]
    },
    {
     "data": {
      "text/plain": [
       "<AxesSubplot:xlabel='Viscera weight'>"
      ]
     },
     "execution_count": 36,
     "metadata": {},
     "output_type": "execute_result"
    },
    {
     "data": {
      "image/png": "[encoded data removed]",
      "text/plain": [
       "<Figure size 432x288 with 1 Axes>"
      ]
     },
     "metadata": {
      "needs_background": "light"
     },
     "output_type": "display_data"
    }
   ],
   "source": [
    "sns.boxplot(df['Viscera weight'])"
   ]
  },
  {
   "cell_type": "code",
   "execution_count": 37,
   "id": "64d7ce60",
   "metadata": {},
   "outputs": [
    {
     "name": "stderr",
     "output_type": "stream",
     "text": [
      "C:\\Users\\Shara\\anaconda3\\lib\\site-packages\\seaborn\\_decorators.py:36: FutureWarning: Pass the following variable as a keyword arg: x. From version 0.12, the only valid positional argument will be `data`, and passing other arguments without an explicit keyword will result in an error or misinterpretation.\n",
      "  warnings.warn(\n"
     ]
    },
    {
     "data": {
      "text/plain": [
       "<AxesSubplot:xlabel='Shell weight'>"
      ]
     },
     "execution_count": 37,
     "metadata": {},
     "output_type": "execute_result"
    },
    {
     "data": {
      "image/png": "[encoded data removed]",
      "text/plain": [
       "<Figure size 432x288 with 1 Axes>"
      ]
     },
     "metadata": {
      "needs_background": "light"
     },
     "output_type": "display_data"
    }
   ],
   "source": [
    "sns.boxplot(df['Shell weight'])"
   ]
  },
  {
   "cell_type": "code",
   "execution_count": 38,
   "id": "55212746",
   "metadata": {},
   "outputs": [
    {
     "name": "stderr",
     "output_type": "stream",
     "text": [
      "C:\\Users\\Shara\\anaconda3\\lib\\site-packages\\seaborn\\_decorators.py:36: FutureWarning: Pass the following variable as a keyword arg: x. From version 0.12, the only valid positional argument will be `data`, and passing other arguments without an explicit keyword will result in an error or misinterpretation.\n",
      "  warnings.warn(\n"
     ]
    },
    {
     "data": {
      "text/plain": [
       "<AxesSubplot:xlabel='Rings'>"
      ]
     },
     "execution_count": 38,
     "metadata": {},
     "output_type": "execute_result"
    },
    {
     "data": {
      "image/png": "[encoded data removed]",
      "text/plain": [
       "<Figure size 432x288 with 1 Axes>"
      ]
     },
     "metadata": {
      "needs_background": "light"
     },
     "output_type": "display_data"
    }
   ],
   "source": [
    "sns.boxplot(df['Rings'])"
   ]
  },
  {
   "cell_type": "markdown",
   "id": "20b68b57",
   "metadata": {},
   "source": [
    "# 7. Check for Categorical columns and perform encoding"
   ]
  },
  {
   "cell_type": "code",
   "execution_count": 39,
   "id": "a2c233a1",
   "metadata": {},
   "outputs": [
    {
     "data": {
      "text/html": [
       "<div>\n",
       "<style scoped>\n",
       "    .dataframe tbody tr th:only-of-type {\n",
       "        vertical-align: middle;\n",
       "    }\n",
       "\n",
       "    .dataframe tbody tr th {\n",
       "        vertical-align: top;\n",
       "    }\n",
       "\n",
       "    .dataframe thead th {\n",
       "        text-align: right;\n",
       "    }\n",
       "</style>\n",
       "<table border=\"1\" class=\"dataframe\">\n",
       "  <thead>\n",
       "    <tr style=\"text-align: right;\">\n",
       "      <th></th>\n",
       "      <th>Sex</th>\n",
       "      <th>Length</th>\n",
       "      <th>Diameter</th>\n",
       "      <th>Height</th>\n",
       "      <th>Whole weight</th>\n",
       "      <th>Shucked weight</th>\n",
       "      <th>Viscera weight</th>\n",
       "      <th>Shell weight</th>\n",
       "      <th>Rings</th>\n",
       "    </tr>\n",
       "  </thead>\n",
       "  <tbody>\n",
       "    <tr>\n",
       "      <th>0</th>\n",
       "      <td>1</td>\n",
       "      <td>0.455</td>\n",
       "      <td>0.365</td>\n",
       "      <td>0.095</td>\n",
       "      <td>0.5140</td>\n",
       "      <td>0.2245</td>\n",
       "      <td>0.1010</td>\n",
       "      <td>0.150</td>\n",
       "      <td>15.0</td>\n",
       "    </tr>\n",
       "    <tr>\n",
       "      <th>1</th>\n",
       "      <td>1</td>\n",
       "      <td>0.350</td>\n",
       "      <td>0.265</td>\n",
       "      <td>0.090</td>\n",
       "      <td>0.2255</td>\n",
       "      <td>0.0995</td>\n",
       "      <td>0.0485</td>\n",
       "      <td>0.070</td>\n",
       "      <td>7.0</td>\n",
       "    </tr>\n",
       "    <tr>\n",
       "      <th>2</th>\n",
       "      <td>0</td>\n",
       "      <td>0.530</td>\n",
       "      <td>0.420</td>\n",
       "      <td>0.135</td>\n",
       "      <td>0.6770</td>\n",
       "      <td>0.2565</td>\n",
       "      <td>0.1415</td>\n",
       "      <td>0.210</td>\n",
       "      <td>9.0</td>\n",
       "    </tr>\n",
       "    <tr>\n",
       "      <th>3</th>\n",
       "      <td>1</td>\n",
       "      <td>0.440</td>\n",
       "      <td>0.365</td>\n",
       "      <td>0.125</td>\n",
       "      <td>0.5160</td>\n",
       "      <td>0.2155</td>\n",
       "      <td>0.1140</td>\n",
       "      <td>0.155</td>\n",
       "      <td>10.0</td>\n",
       "    </tr>\n",
       "    <tr>\n",
       "      <th>4</th>\n",
       "      <td>-1</td>\n",
       "      <td>0.330</td>\n",
       "      <td>0.255</td>\n",
       "      <td>0.080</td>\n",
       "      <td>0.2050</td>\n",
       "      <td>0.0895</td>\n",
       "      <td>0.0395</td>\n",
       "      <td>0.055</td>\n",
       "      <td>7.0</td>\n",
       "    </tr>\n",
       "  </tbody>\n",
       "</table>\n",
       "</div>"
      ],
      "text/plain": [
       "   Sex  Length  Diameter  Height  Whole weight  Shucked weight  \\\n",
       "0    1   0.455     0.365   0.095        0.5140          0.2245   \n",
       "1    1   0.350     0.265   0.090        0.2255          0.0995   \n",
       "2    0   0.530     0.420   0.135        0.6770          0.2565   \n",
       "3    1   0.440     0.365   0.125        0.5160          0.2155   \n",
       "4   -1   0.330     0.255   0.080        0.2050          0.0895   \n",
       "\n",
       "   Viscera weight  Shell weight  Rings  \n",
       "0          0.1010         0.150   15.0  \n",
       "1          0.0485         0.070    7.0  \n",
       "2          0.1415         0.210    9.0  \n",
       "3          0.1140         0.155   10.0  \n",
       "4          0.0395         0.055    7.0  "
      ]
     },
     "execution_count": 39,
     "metadata": {},
     "output_type": "execute_result"
    }
   ],
   "source": [
    "df.head()"
   ]
  },
  {
   "cell_type": "markdown",
   "id": "1d0efa46",
   "metadata": {},
   "source": [
    "# 8. Split the data into dependent and independent variables"
   ]
  },
  {
   "cell_type": "markdown",
   "id": "83fc402b",
   "metadata": {},
   "source": [
    "# independent variable"
   ]
  },
  {
   "cell_type": "code",
   "execution_count": 40,
   "id": "22b55f71",
   "metadata": {},
   "outputs": [
    {
     "data": {
      "text/plain": [
       "array([[1.    , 0.455 , 0.365 , ..., 0.2245, 0.101 , 0.15  ],\n",
       "       [1.    , 0.35  , 0.265 , ..., 0.0995, 0.0485, 0.07  ],\n",
       "       [0.    , 0.53  , 0.42  , ..., 0.2565, 0.1415, 0.21  ],\n",
       "       ...,\n",
       "       [1.    , 0.6   , 0.475 , ..., 0.5255, 0.2875, 0.308 ],\n",
       "       [0.    , 0.625 , 0.485 , ..., 0.531 , 0.261 , 0.296 ],\n",
       "       [1.    , 0.71  , 0.555 , ..., 0.9455, 0.3765, 0.495 ]])"
      ]
     },
     "execution_count": 40,
     "metadata": {},
     "output_type": "execute_result"
    }
   ],
   "source": [
    "x=df.drop(columns=['Rings'],axis=1).values\n",
    "x"
   ]
  },
  {
   "cell_type": "markdown",
   "id": "30851c17",
   "metadata": {},
   "source": [
    "# dependent variable"
   ]
  },
  {
   "cell_type": "code",
   "execution_count": 41,
   "id": "17bd18f0",
   "metadata": {},
   "outputs": [
    {
     "data": {
      "text/plain": [
       "array([15.,  7.,  9., ...,  9., 10., 12.])"
      ]
     },
     "execution_count": 41,
     "metadata": {},
     "output_type": "execute_result"
    }
   ],
   "source": [
    "y=df['Rings'].values\n",
    "y"
   ]
  },
  {
   "cell_type": "markdown",
   "id": "79118975",
   "metadata": {},
   "source": [
    "# 9. Scale the independent variables"
   ]
  },
  {
   "cell_type": "code",
   "execution_count": 42,
   "id": "3cdb7897",
   "metadata": {},
   "outputs": [],
   "source": [
    "from sklearn.preprocessing import scale"
   ]
  },
  {
   "cell_type": "code",
   "execution_count": 43,
   "id": "d5a16f8c",
   "metadata": {},
   "outputs": [
    {
     "data": {
      "text/plain": [
       "array([[ 1.15434629, -0.66347373, -0.50167301, ..., -0.61177023,\n",
       "        -0.73234257, -0.64358992],\n",
       "       [ 1.15434629, -1.60127264, -1.57291477, ..., -1.21969385,\n",
       "        -1.23612645, -1.25742425],\n",
       "       [-0.05379815,  0.00638264,  0.08750996, ..., -0.45614178,\n",
       "        -0.34370929, -0.18321418],\n",
       "       ...,\n",
       "       [ 1.15434629,  0.63158191,  0.67669293, ...,  0.85210986,\n",
       "         1.05728969,  0.56873287],\n",
       "       [-0.05379815,  0.85486737,  0.78381711, ...,  0.8788585 ,\n",
       "         0.80299878,  0.47665772],\n",
       "       [ 1.15434629,  1.61403792,  1.53368634, ...,  2.89473324,\n",
       "         1.91132331,  2.0035706 ]])"
      ]
     },
     "execution_count": 43,
     "metadata": {},
     "output_type": "execute_result"
    }
   ],
   "source": [
    "x=scale(x)\n",
    "x"
   ]
  },
  {
   "cell_type": "markdown",
   "id": "8a7d4184",
   "metadata": {},
   "source": [
    "# 10. Split the data into training and testing"
   ]
  },
  {
   "cell_type": "code",
   "execution_count": 44,
   "id": "d9cc6990",
   "metadata": {},
   "outputs": [],
   "source": [
    "from sklearn.model_selection import train_test_split\n",
    "\n",
    "x_train,x_test,y_train,y_test=train_test_split(x,y,test_size=0.2)"
   ]
  },
  {
   "cell_type": "code",
   "execution_count": 45,
   "id": "ebb5f095",
   "metadata": {},
   "outputs": [
    {
     "data": {
      "text/plain": [
       "array([[-0.05379815, -0.57415955, -0.23386257, ..., -0.6676992 ,\n",
       "        -0.66996933, -0.14484953],\n",
       "       [ 1.15434629,  0.54226773,  0.67669293, ...,  0.15178184,\n",
       "         0.06411576,  0.27716156],\n",
       "       [ 1.15434629, -1.60127264, -1.68003895, ..., -1.36073213,\n",
       "        -1.33208528, -1.33415354],\n",
       "       ...,\n",
       "       [-0.05379815,  1.25678119,  1.37300008, ...,  1.8953068 ,\n",
       "         1.46991268,  1.77338273],\n",
       "       [ 1.15434629,  1.92663756,  1.85505887, ...,  2.80232885,\n",
       "         2.82773018,  0.03800404],\n",
       "       [-0.05379815,  0.185011  , -0.0731763 , ..., -0.26160622,\n",
       "        -0.38689077, -0.25994347]])"
      ]
     },
     "execution_count": 45,
     "metadata": {},
     "output_type": "execute_result"
    }
   ],
   "source": [
    "x_train"
   ]
  },
  {
   "cell_type": "code",
   "execution_count": 46,
   "id": "0e556afa",
   "metadata": {},
   "outputs": [
    {
     "data": {
      "text/plain": [
       "array([[ 1.15434629,  0.40829646,  0.3553204 , ...,  0.31470538,\n",
       "         0.16487253, -0.10648489],\n",
       "       [ 1.15434629,  0.00638264,  0.24819623, ..., -0.16677013,\n",
       "        -0.12780191,  0.77590195],\n",
       "       [-0.05379815, -0.66347373, -0.50167301, ..., -0.89627848,\n",
       "        -1.26011616, -0.76252032],\n",
       "       ...,\n",
       "       [-0.05379815,  1.07815283,  1.15875173, ...,  1.20713726,\n",
       "         0.65906053,  1.14036608],\n",
       "       [-0.05379815,  0.49761064,  0.40888249, ...,  0.26607149,\n",
       "         0.42396138, -0.00290035],\n",
       "       [-1.26194258, -0.08293154, -0.18030048, ..., -0.51450245,\n",
       "        -0.30052781, -0.52849599]])"
      ]
     },
     "execution_count": 46,
     "metadata": {},
     "output_type": "execute_result"
    }
   ],
   "source": [
    "x_test"
   ]
  },
  {
   "cell_type": "code",
   "execution_count": 47,
   "id": "2f1d1128",
   "metadata": {},
   "outputs": [
    {
     "data": {
      "text/plain": [
       "array([15.  ,  9.93, 10.  , ..., 11.  ,  9.93,  9.  ])"
      ]
     },
     "execution_count": 47,
     "metadata": {},
     "output_type": "execute_result"
    }
   ],
   "source": [
    "y_train"
   ]
  },
  {
   "cell_type": "code",
   "execution_count": 48,
   "id": "05044f9d",
   "metadata": {},
   "outputs": [
    {
     "data": {
      "text/plain": [
       "array([ 9.  , 15.  , 13.  , 12.  , 15.  ,  9.  , 10.  , 10.  ,  9.93,\n",
       "        7.  ,  5.  ,  5.  ,  6.  ,  8.  ,  8.  ,  9.  , 14.  ,  7.  ,\n",
       "       15.  ,  6.  ,  9.  ,  7.  ,  7.  ,  6.  , 10.  ,  8.  , 13.  ,\n",
       "        8.  ,  9.  ,  8.  ,  6.  ,  7.  ,  6.  , 10.  ,  7.  ,  9.  ,\n",
       "       11.  , 10.  ,  9.93, 12.  ,  9.  ,  9.93,  5.  , 15.  ,  9.93,\n",
       "        7.  , 10.  , 11.  ,  5.  , 12.  , 10.  ,  9.  ,  9.93, 10.  ,\n",
       "       13.  ,  9.  , 11.  , 10.  ,  9.  , 10.  , 14.  ,  7.  ,  9.  ,\n",
       "       12.  , 15.  ,  9.93, 10.  ,  9.93,  7.  , 12.  , 10.  ,  7.  ,\n",
       "       12.  ,  5.  ,  9.93,  5.  ,  9.  ,  7.  ,  9.  ,  4.  ,  5.  ,\n",
       "        8.  , 13.  , 12.  , 10.  ,  8.  , 14.  , 12.  ,  9.  , 14.  ,\n",
       "        8.  , 12.  ,  8.  , 10.  ,  7.  , 11.  ,  7.  ,  6.  , 12.  ,\n",
       "        9.  , 10.  ,  8.  ,  9.  ,  8.  , 12.  ,  5.  ,  7.  , 10.  ,\n",
       "        9.93,  8.  ,  9.93,  8.  , 10.  ,  9.  , 11.  ,  8.  , 14.  ,\n",
       "       13.  , 11.  ,  9.93, 12.  , 12.  , 10.  ,  9.  ,  8.  ,  8.  ,\n",
       "        7.  , 12.  , 10.  ,  9.  ,  7.  , 13.  ,  8.  ,  8.  , 11.  ,\n",
       "       13.  ,  7.  ,  8.  ,  8.  ,  7.  , 10.  ,  4.  ,  8.  , 11.  ,\n",
       "       11.  , 10.  ,  8.  ,  4.  , 10.  , 11.  ,  6.  ,  7.  ,  9.93,\n",
       "        9.  ,  8.  ,  9.  ,  9.  , 12.  ,  8.  , 12.  ,  7.  ,  8.  ,\n",
       "        8.  , 12.  , 10.  ,  9.93,  7.  ,  8.  , 13.  ,  9.  ,  6.  ,\n",
       "       12.  ,  8.  ,  8.  , 10.  , 10.  , 11.  , 10.  , 14.  ,  9.  ,\n",
       "       10.  , 12.  ,  7.  , 13.  ,  8.  ,  9.93,  8.  , 13.  , 10.  ,\n",
       "       14.  ,  6.  ,  9.93,  7.  ,  6.  ,  8.  , 10.  ,  7.  ,  7.  ,\n",
       "       12.  , 12.  ,  7.  , 10.  , 10.  ,  9.  ,  7.  ,  9.93,  7.  ,\n",
       "        8.  ,  9.  ,  9.93,  8.  ,  9.  , 13.  , 15.  , 12.  ,  8.  ,\n",
       "        9.93,  9.  ,  9.  , 13.  , 11.  ,  6.  , 10.  ,  9.  ,  7.  ,\n",
       "        9.  ,  9.  ,  8.  ,  7.  , 10.  , 10.  , 11.  , 14.  ,  9.  ,\n",
       "       11.  , 12.  , 11.  , 10.  ,  5.  , 13.  , 14.  ,  7.  ,  9.  ,\n",
       "        7.  ,  8.  , 15.  ,  7.  ,  7.  ,  9.  , 11.  , 10.  ,  6.  ,\n",
       "       14.  ,  8.  , 12.  , 10.  ,  9.  ,  8.  ,  9.  , 11.  ,  6.  ,\n",
       "       11.  ,  6.  , 13.  , 15.  , 12.  , 13.  ,  8.  ,  8.  , 12.  ,\n",
       "        6.  , 13.  , 12.  ,  9.  , 15.  , 11.  ,  9.93, 11.  ,  7.  ,\n",
       "       11.  ,  8.  ,  7.  , 14.  ,  8.  , 10.  ,  9.  , 13.  ,  9.  ,\n",
       "        9.  ,  9.  ,  8.  ,  9.93, 10.  ,  7.  ,  7.  ,  8.  , 10.  ,\n",
       "       11.  ,  8.  ,  8.  ,  6.  , 10.  ,  8.  ,  7.  ,  9.  ,  8.  ,\n",
       "        9.  ,  9.  , 11.  ,  7.  , 10.  ,  9.93, 11.  , 10.  , 11.  ,\n",
       "        9.  , 10.  , 14.  , 10.  , 15.  ,  5.  , 13.  ,  9.  ,  9.  ,\n",
       "        7.  , 10.  , 11.  ,  8.  , 10.  , 11.  , 10.  ,  5.  , 11.  ,\n",
       "        9.  , 11.  ,  8.  , 11.  , 13.  ,  7.  , 11.  ,  9.93,  4.  ,\n",
       "        8.  , 11.  , 11.  ,  7.  ,  5.  , 11.  ,  7.  ,  9.93, 14.  ,\n",
       "       11.  ,  7.  ,  9.93, 15.  , 13.  ,  9.93, 10.  , 11.  ,  7.  ,\n",
       "        8.  ,  9.  , 10.  ,  9.  , 10.  , 12.  , 13.  , 11.  ,  9.93,\n",
       "       10.  ,  7.  , 10.  , 13.  , 10.  , 15.  ,  9.93, 14.  ,  9.  ,\n",
       "       14.  , 10.  ,  9.  ,  8.  ,  9.  , 11.  , 11.  ,  9.  , 13.  ,\n",
       "        6.  ,  8.  ,  9.  ,  9.  ,  9.  ,  7.  , 10.  , 11.  , 11.  ,\n",
       "       10.  , 13.  ,  7.  , 11.  ,  7.  ,  6.  , 12.  ,  8.  , 10.  ,\n",
       "        8.  ,  6.  ,  6.  , 10.  ,  8.  ,  8.  , 10.  ,  8.  , 10.  ,\n",
       "        9.93, 13.  ,  7.  ,  9.  ,  9.  ,  7.  , 10.  , 11.  , 10.  ,\n",
       "        9.93, 13.  ,  5.  , 11.  , 14.  ,  6.  ,  9.93,  9.  ,  8.  ,\n",
       "       10.  , 10.  ,  8.  ,  9.  , 12.  ,  9.  ,  9.  , 12.  ,  6.  ,\n",
       "       13.  ,  9.  ,  7.  ,  9.  ,  9.  ,  9.93,  9.  , 10.  , 10.  ,\n",
       "        9.  ,  5.  ,  9.  , 12.  ,  9.  ,  9.93,  8.  ,  9.  ,  7.  ,\n",
       "       11.  , 11.  ,  8.  ,  9.  ,  9.93,  8.  ,  9.  , 10.  , 12.  ,\n",
       "        7.  ,  8.  ,  9.93, 10.  , 10.  ,  9.  , 11.  , 10.  , 10.  ,\n",
       "        8.  ,  4.  ,  9.93, 10.  , 10.  ,  9.93, 11.  , 10.  , 12.  ,\n",
       "        9.93, 10.  , 10.  ,  9.93, 14.  , 11.  ,  8.  , 10.  , 10.  ,\n",
       "       10.  ,  9.93, 11.  , 11.  ,  9.  , 12.  , 13.  , 12.  , 12.  ,\n",
       "       11.  ,  8.  , 10.  , 10.  ,  8.  ,  8.  , 10.  ,  5.  , 10.  ,\n",
       "       10.  , 12.  , 13.  , 11.  ,  9.  , 12.  ,  8.  ,  8.  , 15.  ,\n",
       "        8.  ,  7.  ,  9.  ,  9.93, 10.  , 10.  ,  9.  , 10.  , 13.  ,\n",
       "        6.  ,  9.93, 11.  , 11.  ,  7.  ,  9.  , 11.  , 12.  ,  7.  ,\n",
       "       12.  ,  9.  ,  8.  , 15.  , 11.  ,  7.  , 10.  ,  8.  ,  9.  ,\n",
       "       11.  , 10.  ,  7.  ,  9.  ,  7.  ,  6.  ,  9.  , 10.  ,  8.  ,\n",
       "       10.  ,  9.  ,  9.  ,  6.  ,  7.  , 12.  ,  8.  ,  7.  , 12.  ,\n",
       "       15.  ,  7.  , 13.  ,  8.  ,  9.  , 11.  ,  9.  , 12.  ,  9.  ,\n",
       "        5.  ,  8.  ,  9.  ,  9.  ,  7.  , 10.  ,  9.  , 11.  , 12.  ,\n",
       "        9.  ,  7.  ,  8.  ,  9.  ,  8.  ,  8.  ,  9.  ,  6.  ,  9.  ,\n",
       "       11.  ,  6.  ,  9.  ,  9.  ,  8.  , 10.  , 10.  ,  8.  ,  6.  ,\n",
       "        7.  , 14.  , 10.  , 14.  , 10.  ,  9.  , 11.  ,  5.  ,  5.  ,\n",
       "       10.  ,  9.93, 10.  , 14.  ,  7.  ,  9.  ,  8.  ,  9.  ,  7.  ,\n",
       "        7.  ,  6.  ,  7.  , 12.  ,  9.93,  8.  , 15.  ,  9.93,  9.  ,\n",
       "       11.  , 10.  , 13.  ,  9.  , 10.  ,  4.  , 11.  ,  7.  , 12.  ,\n",
       "       12.  , 13.  ,  9.  , 15.  ,  8.  ,  8.  ,  8.  ,  7.  ,  9.  ,\n",
       "       10.  ,  9.  ,  8.  , 11.  , 11.  , 10.  , 10.  ,  6.  , 14.  ,\n",
       "       10.  ,  9.  ,  8.  , 13.  ,  5.  , 12.  ,  7.  ,  7.  , 11.  ,\n",
       "        9.  ,  7.  ,  7.  ,  8.  , 11.  , 12.  ,  9.  , 13.  ,  9.  ,\n",
       "       11.  , 11.  , 12.  ,  9.  ,  7.  ,  7.  , 12.  ,  6.  ,  6.  ,\n",
       "        9.93,  9.  , 10.  ,  8.  , 14.  , 11.  ,  9.  , 15.  ,  9.  ,\n",
       "       13.  ,  6.  ,  9.93,  8.  , 14.  ,  9.  , 10.  ,  9.  , 15.  ,\n",
       "        8.  ,  7.  ,  8.  ,  6.  ,  7.  ,  8.  , 13.  , 10.  , 15.  ,\n",
       "       13.  ,  8.  , 10.  ,  9.  ,  9.  ,  9.  , 10.  ,  9.93,  6.  ,\n",
       "        9.  , 10.  ,  9.  , 10.  ,  8.  ,  9.  , 11.  , 10.  , 10.  ,\n",
       "       15.  ,  7.  ,  5.  ,  6.  ,  9.  ,  9.93, 11.  , 11.  ,  7.  ,\n",
       "        9.  ,  9.  ,  9.  , 12.  , 10.  , 13.  ,  8.  ,  9.  , 10.  ,\n",
       "        9.93,  6.  ,  8.  ,  6.  , 10.  , 13.  , 10.  , 10.  , 10.  ,\n",
       "       10.  , 12.  , 10.  ,  8.  ,  9.93, 12.  ,  9.  ,  6.  , 12.  ,\n",
       "        9.  , 11.  ,  8.  ,  8.  ,  8.  , 12.  ,  7.  ,  9.  , 12.  ,\n",
       "        8.  , 10.  , 12.  ,  7.  , 11.  ,  9.93, 11.  , 12.  , 10.  ,\n",
       "        4.  , 11.  , 11.  ,  6.  , 12.  , 11.  ,  6.  ,  6.  ,  9.93,\n",
       "       12.  ,  9.  ,  8.  , 11.  , 14.  ,  5.  , 11.  , 13.  ,  6.  ,\n",
       "       10.  , 10.  , 14.  ,  9.  , 11.  ,  8.  ,  7.  ,  6.  ,  9.  ,\n",
       "        4.  , 10.  , 12.  ,  9.93, 11.  , 14.  , 10.  , 15.  , 10.  ,\n",
       "        9.  ,  9.93,  8.  ,  9.  , 15.  , 10.  ,  9.93,  9.  , 10.  ,\n",
       "       14.  ,  9.93, 10.  ,  5.  ,  9.  , 10.  ,  8.  ,  9.  ])"
      ]
     },
     "execution_count": 48,
     "metadata": {},
     "output_type": "execute_result"
    }
   ],
   "source": [
    "y_test"
   ]
  },
  {
   "cell_type": "markdown",
   "id": "470c7a44",
   "metadata": {},
   "source": [
    "# 11. Build the Model"
   ]
  },
  {
   "cell_type": "code",
   "execution_count": 49,
   "id": "13163316",
   "metadata": {},
   "outputs": [],
   "source": [
    "from sklearn.linear_model import LinearRegression\n",
    "linreg=LinearRegression()"
   ]
  },
  {
   "cell_type": "markdown",
   "id": "e4f2b4a5",
   "metadata": {},
   "source": [
    "# 12. Train the Model"
   ]
  },
  {
   "cell_type": "code",
   "execution_count": 50,
   "id": "bf1ed508",
   "metadata": {},
   "outputs": [
    {
     "data": {
      "text/plain": [
       "LinearRegression()"
      ]
     },
     "execution_count": 50,
     "metadata": {},
     "output_type": "execute_result"
    }
   ],
   "source": [
    "linreg.fit(x_train,y_train)"
   ]
  },
  {
   "cell_type": "markdown",
   "id": "2df7c770",
   "metadata": {},
   "source": [
    "# 13. Test the Model"
   ]
  },
  {
   "cell_type": "code",
   "execution_count": 51,
   "id": "98f2eb70",
   "metadata": {},
   "outputs": [
    {
     "data": {
      "text/plain": [
       "array([ 9.77455582, 11.08215986,  8.6301508 , 10.22671257,  9.30465988,\n",
       "        8.11526299, 11.41499269, 10.79933089, 12.59119249,  7.34438571,\n",
       "        8.14305902,  6.15177102,  6.9929839 ,  7.83338372, 10.24529387,\n",
       "       10.08083634, 10.64440712,  7.504051  , 10.05612717,  6.90664332,\n",
       "        8.6833348 ,  8.2838353 ,  9.53334439,  7.05271279, 10.06474744,\n",
       "        9.13181885,  6.84328291,  7.72520036, 10.99479743,  8.51422976,\n",
       "        6.12066381,  7.05527694,  7.57645279, 10.88835142,  7.89357333,\n",
       "        9.37746017, 11.73747841, 11.27989916, 11.69897387,  8.60421867,\n",
       "        9.42991078,  9.8876128 ,  6.33269069,  9.2110074 , 10.0138883 ,\n",
       "        6.95712437,  9.61129036, 10.42279252,  4.33437481, 10.37470455,\n",
       "       10.67883676, 10.91065534, 11.10572876, 10.42261899, 10.04433798,\n",
       "        8.74425568,  9.13880105, 11.85251726, 10.30258408,  9.26930402,\n",
       "        8.37197622,  7.11362663,  8.97777541,  9.85526675, 11.41087793,\n",
       "        6.04516636, 10.08697485,  8.73155192,  7.24079921, 11.19558168,\n",
       "        9.31989221,  6.7230018 , 11.74637901,  6.70159371, 10.26873528,\n",
       "        5.57303063,  8.21623214,  7.62773748,  9.1034869 ,  8.73536009,\n",
       "        6.73618314, 10.87816827, 10.98422193, 10.41276908, 10.29224203,\n",
       "        9.74055587, 12.321422  , 10.01976237,  8.47362819, 10.01791039,\n",
       "        8.32009076, 11.50638316,  9.73988976,  8.7006522 ,  8.75208445,\n",
       "       11.35913441,  7.23195512,  8.25509861,  9.94283668,  8.92669498,\n",
       "       11.2956309 , 10.08635368,  9.90222362,  8.10391451,  9.53332788,\n",
       "        7.33814156,  7.3975736 ,  7.96769815,  9.91246108,  8.41979725,\n",
       "       11.7700062 ,  7.7782788 , 11.50276789,  9.58363561, 10.05133277,\n",
       "        6.77281636, 10.93220541,  9.8670225 , 11.35868342, 12.05725921,\n",
       "       10.40577694,  9.59942767,  9.3988344 , 11.24912474,  8.72948393,\n",
       "        8.58596797,  9.16048488, 10.99294321,  7.43555615, 10.21342545,\n",
       "        6.83393868, 10.74771165,  8.84234901,  8.14060191, 10.00542515,\n",
       "        8.4946152 ,  9.26801341,  9.45946658, 10.1256993 ,  6.48174962,\n",
       "       10.25398233,  8.74073263,  9.00128712,  8.76148982,  7.8922933 ,\n",
       "        9.53862497, 11.04078561,  7.4462558 , 11.6075644 , 11.52418763,\n",
       "        7.39018075,  8.37003847, 10.176631  ,  9.70993758, 10.54643205,\n",
       "        9.96263742,  8.31186674,  9.68747973,  9.55112494, 10.37353839,\n",
       "        7.49880018,  9.87960323,  9.60028847,  9.20852217,  8.24036784,\n",
       "       12.16948049,  7.30563113,  8.67188143, 10.72084692,  9.47446868,\n",
       "        6.65187466,  9.97645678, 10.81523357,  9.37120153, 10.75667897,\n",
       "       11.36157836, 10.74789328,  8.0639397 , 11.57747734,  8.92266623,\n",
       "        9.85131918, 12.37909496,  9.12086245, 10.76303165,  9.91284335,\n",
       "       12.94877899,  8.30414633, 11.01824835, 10.40649546, 10.06104347,\n",
       "        6.78255781, 12.13962652,  9.00935007,  7.58306863,  7.88679252,\n",
       "       10.29553076,  7.11396419,  7.68017351, 10.32483598, 10.91849546,\n",
       "        8.01259999,  9.52701652,  9.42443583,  8.64350952,  7.780023  ,\n",
       "       11.45042718,  8.02482124,  9.60580106, 10.93440723, 11.77721732,\n",
       "        7.30756346,  7.70843762, 10.33111885,  9.27979917, 10.92793788,\n",
       "        9.41731338, 11.01961744, 10.60712739,  9.19070788, 13.99444156,\n",
       "       10.11363971,  7.53624262, 10.19269264,  9.79162261,  7.41684024,\n",
       "       10.25445763, 10.2095011 ,  8.70998869,  8.25509657,  9.88122949,\n",
       "       11.31669541, 11.08283382, 12.31664841, 10.42895346,  8.9721904 ,\n",
       "       11.25277195, 10.14602306,  8.27397341,  6.35583002, 10.99848198,\n",
       "        9.58329422,  7.14467096,  9.3839862 ,  6.53051353,  9.22760501,\n",
       "        8.66298121,  7.87987516,  7.06157496,  8.55579977, 10.52088362,\n",
       "        9.97650445,  7.42694391, 11.91298986,  9.00944586, 11.45398895,\n",
       "       10.32214069, 10.46353863,  8.41848106,  9.73529281, 11.09735419,\n",
       "        7.41066607, 10.92589906,  7.24704   , 10.65169545, 10.13568068,\n",
       "       10.71563074,  8.89280089, 10.33132878,  9.33216678, 11.5197356 ,\n",
       "        8.91059682,  9.2260954 , 11.58217493,  9.64842926, 10.84557732,\n",
       "        7.27095507, 11.40156561,  9.21772873,  7.96331362, 10.21762452,\n",
       "        9.3755911 ,  7.5056099 , 11.31091536, 10.56288334, 11.29932487,\n",
       "        8.71612646, 10.49992709,  8.11420384,  8.86970334,  9.98724045,\n",
       "        7.80454457, 10.03645103,  7.53655464,  7.3127886 ,  6.01104873,\n",
       "        8.16150576,  9.22225752,  9.75138478,  8.9948304 ,  7.84169915,\n",
       "        7.90545746,  9.81666881,  9.15644288,  7.84607052, 10.73849955,\n",
       "        8.8089805 ,  9.88107989, 10.21622496, 10.14025994,  7.53592205,\n",
       "       10.38970681, 11.6640709 , 11.034132  ,  8.96693285,  9.48421863,\n",
       "        9.10319665, 10.7005257 ,  9.87624818,  9.96290617, 11.44981135,\n",
       "        6.30131887,  9.8212203 ,  9.81377806,  9.97037957,  6.54215242,\n",
       "        9.54347797, 10.70218504,  9.04440648, 11.35921444,  9.53859561,\n",
       "       10.47904342,  7.42998757, 10.35939048,  7.67261605,  9.07617564,\n",
       "        8.41598055,  9.31903563, 10.62526487,  6.9820777 ,  9.80164948,\n",
       "       12.77073822,  6.9299074 ,  7.72029729,  9.78193863,  9.68186284,\n",
       "        7.48258447,  8.74486527, 10.85193167,  7.40801593, 10.06751693,\n",
       "        9.59502706, 10.77077655,  7.76522899, 12.52680394,  9.91259227,\n",
       "       10.856555  , 10.953856  ,  8.95574322,  9.78546574,  9.75730401,\n",
       "        8.36812513, 10.24150045,  9.75303473,  8.3206304 , 10.01981788,\n",
       "        8.01429849,  9.96072545,  9.4213824 , 11.06932832,  9.07336041,\n",
       "        7.36564356,  9.69036407, 10.6247043 ,  9.99414728, 11.32958127,\n",
       "       10.19757729,  9.60400332, 10.70647037, 10.23689795,  8.64306795,\n",
       "        8.91479834,  8.39134058, 10.20574131, 10.13876934,  9.69351105,\n",
       "        8.93486913,  9.70880776,  7.49627264,  8.20583206,  9.72531919,\n",
       "       10.88452803,  7.94747339,  8.42955511, 10.13681413, 10.73260189,\n",
       "       10.38279827,  8.48132165, 10.199529  ,  7.30934462, 11.18895527,\n",
       "        8.59839087,  7.02118203, 10.28908877,  9.38392226, 10.22230028,\n",
       "        8.20086477,  8.00452089,  6.5799996 , 11.9831302 ,  8.35922941,\n",
       "        8.28486182, 10.41679409,  7.57255352, 10.53005819, 12.00748402,\n",
       "       11.50522501,  7.08076914,  9.9754423 , 10.1386253 ,  8.56054181,\n",
       "        9.66006801,  9.94316841,  9.1189673 ,  8.6606464 ,  9.76990787,\n",
       "        6.50047119, 10.68954591, 10.57650786,  8.23995177, 10.62062988,\n",
       "        8.44307314, 10.01887497,  9.53058971,  9.26721422,  7.09654166,\n",
       "        9.21464024, 12.81879573,  9.46314132, 10.2925785 ,  9.07842223,\n",
       "        7.79622788, 11.33024364,  8.85937029,  8.56160372,  8.40951731,\n",
       "        7.46371141,  9.19292947,  9.61951707, 10.76584942,  9.54023655,\n",
       "       10.12190027,  6.13067476, 10.21586863,  9.43508756,  9.78136191,\n",
       "       11.27608671,  8.0983096 ,  9.27957081,  7.33611718, 10.77236361,\n",
       "        9.46961933, 10.65032433,  7.20104606, 12.07207104,  9.54165691,\n",
       "        9.00876024, 10.2921515 ,  9.6672482 ,  7.52931307,  8.35805332,\n",
       "       11.8499587 , 11.88457221, 10.09208038,  8.9483121 , 11.71645383,\n",
       "       10.19071625,  8.47878577,  8.47627046,  7.85371717, 10.47142083,\n",
       "       10.10127104,  9.98847239, 10.40204866, 10.72260141,  9.35527394,\n",
       "        9.2462288 , 10.56389524, 10.42232776,  9.70604939, 10.55868027,\n",
       "       10.05935261, 11.79250086,  8.39882846,  9.45024631,  9.97613816,\n",
       "        9.13164014, 10.42897277,  8.67359701, 10.64243964,  7.97373681,\n",
       "        9.4934094 ,  9.69987616, 10.50849615, 11.36462725, 10.77843955,\n",
       "        8.87395287, 10.42263695,  9.99214308, 10.05247215,  9.27135087,\n",
       "       10.43950953,  6.23465409,  9.51728798, 10.509342  ,  8.75840875,\n",
       "       12.18879062,  8.63543899,  9.66449148, 10.29694866,  8.72242589,\n",
       "        8.99508105, 10.7975234 ,  9.24446676,  7.58216196, 10.93357168,\n",
       "       13.29624425, 10.02755864,  9.32524075,  8.46675676,  9.90468741,\n",
       "       10.4888508 ,  7.61009163, 10.66642053, 10.63246098, 10.23519726,\n",
       "        8.35348776,  9.82897741, 10.18735428, 10.28492395,  7.30268506,\n",
       "       11.54895164, 10.77375642,  9.4040396 ,  8.98732319,  9.03634749,\n",
       "        7.74983391,  9.80348924,  8.28565351,  8.19406181,  9.39585524,\n",
       "       11.06211252,  8.10006337, 10.53330655,  8.61267154,  6.11517391,\n",
       "       10.52632197, 10.78804339, 11.05864768, 10.75693203, 10.77318108,\n",
       "       10.94427624,  6.89248852,  7.71467297, 10.8974133 ,  8.44944366,\n",
       "        7.23362109, 10.89416534, 10.64934636,  7.51815715,  9.33142735,\n",
       "        9.17012663, 10.28906203, 11.98648177, 10.49199068, 11.44378752,\n",
       "        9.72518753,  6.60776684,  7.97208379,  8.8308032 ,  7.97800109,\n",
       "        8.06200886,  9.24420997,  9.20333909, 11.40763455, 10.52041859,\n",
       "        8.78026388,  7.61515439,  8.65453464,  8.00936429,  8.62313892,\n",
       "        9.17743083, 10.99223426,  6.91721292, 10.11279937, 10.99514004,\n",
       "        7.78484327, 10.83298945,  9.71289732,  8.86154981,  9.13625166,\n",
       "       10.11315288,  9.26454146,  6.37496774,  9.09528801, 11.79132925,\n",
       "       12.13860197, 10.6665062 ,  9.68792591,  9.94084613,  8.87742619,\n",
       "        6.90537362,  8.19171781, 10.68586434, 10.09132296,  9.9227556 ,\n",
       "        8.55655761,  7.74585952, 10.43073618,  9.26457299,  9.63307341,\n",
       "        7.40385359,  7.76581127,  6.98263002,  6.13538083, 12.47822791,\n",
       "       10.38376056,  7.35992578, 11.0640852 , 12.23448026, 10.09119086,\n",
       "       10.5696392 , 10.90585498, 12.05284081,  8.40519321, 10.36623094,\n",
       "        7.05169928, 10.84201559,  8.03700765,  9.54473974, 11.73834909,\n",
       "        9.8769787 ,  8.94392868,  9.78705044,  6.6044657 ,  8.60401537,\n",
       "        8.39411   ,  8.33225065, 10.12111794,  8.26781393, 11.37849876,\n",
       "       10.53304438, 10.6403315 ,  9.24441748, 11.66888114, 10.78912435,\n",
       "        7.15719161, 11.13011499,  7.79462973,  9.66601453,  7.78757884,\n",
       "       11.30821341,  6.37838766, 11.32493111,  6.54332065,  8.07670909,\n",
       "        9.78316977,  8.84733613,  7.41967987,  8.0196709 ,  9.91958141,\n",
       "       12.4909055 ,  9.23773238, 10.17563507,  9.07737808,  7.2823399 ,\n",
       "        9.78470214,  9.510156  , 13.72777558, 10.0529451 ,  7.63922625,\n",
       "        6.73648494,  9.30619327,  7.26410183,  8.03393815, 11.11248077,\n",
       "        9.84733797, 10.06967059,  9.32644737,  9.49854625, 10.45525827,\n",
       "        9.29246498,  8.00442033,  8.40111689,  9.21799224,  6.58011369,\n",
       "       11.34576816,  9.90413682, 12.08451517,  9.59832025, 10.64414477,\n",
       "        9.54528002, 11.05497974,  6.49661663,  7.97361479,  8.31028882,\n",
       "        7.08955262,  8.12402882,  9.3362754 , 10.23064912,  8.74541787,\n",
       "       11.45644581, 10.85382252,  9.68595825,  9.76417195,  9.5754889 ,\n",
       "       10.04177054,  9.51366111, 10.61189586, 12.38342375,  7.55551051,\n",
       "        9.6339208 , 10.46106905,  8.91293925, 10.91141673,  9.40471104,\n",
       "       12.08152838, 10.70339664,  8.89210633,  9.92260578, 11.12112051,\n",
       "        8.79562383,  6.16535176,  7.27496625,  8.97020537, 11.17742143,\n",
       "        9.97078095, 10.31991326,  7.12281353,  9.07980765,  9.32949463,\n",
       "        9.00102868, 11.35533114,  9.22244124,  9.74177536, 10.78122191,\n",
       "        7.88617008, 10.01203818,  7.15461205,  6.31248566,  8.97861483,\n",
       "        6.45043082,  9.9349698 , 10.93044221, 10.88340122,  9.72374848,\n",
       "       10.70967087, 10.85090652,  9.61919546, 10.20648479,  8.05042341,\n",
       "       10.71063493,  9.82385002, 11.09688001,  7.78479863,  9.6854646 ,\n",
       "        7.27433798, 11.03739811,  8.42848488,  8.22347325,  9.53006276,\n",
       "        8.26539522,  7.71588692, 11.10968481, 10.49620769,  7.66863692,\n",
       "        8.86234487,  9.42366378,  7.23368342, 10.44859777, 12.1549531 ,\n",
       "       10.82669427, 10.99434922,  9.98128046,  7.24968977,  9.36827619,\n",
       "       10.24987594,  6.61063705, 10.36110189,  9.27424163,  6.83015534,\n",
       "        7.25617785, 11.2080672 , 11.54570629, 10.01759624,  8.06727136,\n",
       "       10.51093444, 12.37291334,  7.35973712, 12.13715559, 10.9545996 ,\n",
       "        6.35030723,  9.15013116, 10.18041239, 10.73124699,  8.50015869,\n",
       "        9.81493541,  7.30425623,  8.79702844,  8.11409788,  8.43170881,\n",
       "        8.08096209,  7.53455321, 11.36596309, 11.85645806, 11.3979029 ,\n",
       "       10.79444381,  8.94276421, 12.58134343, 11.16160562, 10.66317179,\n",
       "       10.70232324,  8.3346508 ,  9.57433587, 12.51920071,  9.7360148 ,\n",
       "       11.75938975, 10.03724873, 10.10829167, 11.38654995, 11.24749926,\n",
       "       10.36513133,  9.54675475,  9.58712347, 11.00133107,  9.84075112,\n",
       "        8.63757808])"
      ]
     },
     "execution_count": 51,
     "metadata": {},
     "output_type": "execute_result"
    }
   ],
   "source": [
    "test_pred=linreg.predict(x_test)\n",
    "test_pred"
   ]
  },
  {
   "cell_type": "markdown",
   "id": "4bee19c0",
   "metadata": {},
   "source": [
    "# 14. Measure the performance using Metrics."
   ]
  },
  {
   "cell_type": "code",
   "execution_count": 52,
   "id": "4cfe6934",
   "metadata": {},
   "outputs": [
    {
     "data": {
      "text/plain": [
       "0.42175732800288646"
      ]
     },
     "execution_count": 52,
     "metadata": {},
     "output_type": "execute_result"
    }
   ],
   "source": [
    "from sklearn import metrics\n",
    "from sklearn.metrics import mean_squared_error\n",
    "metrics.r2_score(y_test,test_pred)"
   ]
  },
  {
   "cell_type": "code",
   "execution_count": 53,
   "id": "c4074988",
   "metadata": {},
   "outputs": [
    {
     "data": {
      "text/html": [
       "<div>\n",
       "<style scoped>\n",
       "    .dataframe tbody tr th:only-of-type {\n",
       "        vertical-align: middle;\n",
       "    }\n",
       "\n",
       "    .dataframe tbody tr th {\n",
       "        vertical-align: top;\n",
       "    }\n",
       "\n",
       "    .dataframe thead th {\n",
       "        text-align: right;\n",
       "    }\n",
       "</style>\n",
       "<table border=\"1\" class=\"dataframe\">\n",
       "  <thead>\n",
       "    <tr style=\"text-align: right;\">\n",
       "      <th></th>\n",
       "      <th>Sex</th>\n",
       "      <th>Length</th>\n",
       "      <th>Diameter</th>\n",
       "      <th>Height</th>\n",
       "      <th>Whole weight</th>\n",
       "      <th>Shucked weight</th>\n",
       "      <th>Viscera weight</th>\n",
       "      <th>Shell weight</th>\n",
       "      <th>Rings</th>\n",
       "    </tr>\n",
       "  </thead>\n",
       "  <tbody>\n",
       "    <tr>\n",
       "      <th>0</th>\n",
       "      <td>1</td>\n",
       "      <td>0.455</td>\n",
       "      <td>0.365</td>\n",
       "      <td>0.095</td>\n",
       "      <td>0.5140</td>\n",
       "      <td>0.2245</td>\n",
       "      <td>0.1010</td>\n",
       "      <td>0.150</td>\n",
       "      <td>15.0</td>\n",
       "    </tr>\n",
       "    <tr>\n",
       "      <th>1</th>\n",
       "      <td>1</td>\n",
       "      <td>0.350</td>\n",
       "      <td>0.265</td>\n",
       "      <td>0.090</td>\n",
       "      <td>0.2255</td>\n",
       "      <td>0.0995</td>\n",
       "      <td>0.0485</td>\n",
       "      <td>0.070</td>\n",
       "      <td>7.0</td>\n",
       "    </tr>\n",
       "    <tr>\n",
       "      <th>2</th>\n",
       "      <td>0</td>\n",
       "      <td>0.530</td>\n",
       "      <td>0.420</td>\n",
       "      <td>0.135</td>\n",
       "      <td>0.6770</td>\n",
       "      <td>0.2565</td>\n",
       "      <td>0.1415</td>\n",
       "      <td>0.210</td>\n",
       "      <td>9.0</td>\n",
       "    </tr>\n",
       "    <tr>\n",
       "      <th>3</th>\n",
       "      <td>1</td>\n",
       "      <td>0.440</td>\n",
       "      <td>0.365</td>\n",
       "      <td>0.125</td>\n",
       "      <td>0.5160</td>\n",
       "      <td>0.2155</td>\n",
       "      <td>0.1140</td>\n",
       "      <td>0.155</td>\n",
       "      <td>10.0</td>\n",
       "    </tr>\n",
       "    <tr>\n",
       "      <th>4</th>\n",
       "      <td>-1</td>\n",
       "      <td>0.330</td>\n",
       "      <td>0.255</td>\n",
       "      <td>0.080</td>\n",
       "      <td>0.2050</td>\n",
       "      <td>0.0895</td>\n",
       "      <td>0.0395</td>\n",
       "      <td>0.055</td>\n",
       "      <td>7.0</td>\n",
       "    </tr>\n",
       "  </tbody>\n",
       "</table>\n",
       "</div>"
      ],
      "text/plain": [
       "   Sex  Length  Diameter  Height  Whole weight  Shucked weight  \\\n",
       "0    1   0.455     0.365   0.095        0.5140          0.2245   \n",
       "1    1   0.350     0.265   0.090        0.2255          0.0995   \n",
       "2    0   0.530     0.420   0.135        0.6770          0.2565   \n",
       "3    1   0.440     0.365   0.125        0.5160          0.2155   \n",
       "4   -1   0.330     0.255   0.080        0.2050          0.0895   \n",
       "\n",
       "   Viscera weight  Shell weight  Rings  \n",
       "0          0.1010         0.150   15.0  \n",
       "1          0.0485         0.070    7.0  \n",
       "2          0.1415         0.210    9.0  \n",
       "3          0.1140         0.155   10.0  \n",
       "4          0.0395         0.055    7.0  "
      ]
     },
     "execution_count": 53,
     "metadata": {},
     "output_type": "execute_result"
    }
   ],
   "source": [
    "df.head()"
   ]
  },
  {
   "cell_type": "code",
   "execution_count": 54,
   "id": "321d1064",
   "metadata": {},
   "outputs": [
    {
     "data": {
      "text/plain": [
       "array([20.94973976])"
      ]
     },
     "execution_count": 54,
     "metadata": {},
     "output_type": "execute_result"
    }
   ],
   "source": [
    "linreg.predict([[0.455,0.365,0.095,0.5140,0.2245,0.1010,0.150,15.0]])"
   ]
  }
 ],
 "metadata": {
  "kernelspec": {
   "display_name": "Python 3 (ipykernel)",
   "language": "python",
   "name": "python3"
  },
  "language_info": {
   "codemirror_mode": {
    "name": "ipython",
    "version": 3
   },
   "file_extension": ".py",
   "mimetype": "text/x-python",
   "name": "python",
   "nbconvert_exporter": "python",
   "pygments_lexer": "ipython3",
   "version": "3.9.12"
  }
 },
 "nbformat": 4,
 "nbformat_minor": 5
}
